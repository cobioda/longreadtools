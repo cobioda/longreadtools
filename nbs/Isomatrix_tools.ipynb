{
 "cells": [
  {
   "cell_type": "markdown",
   "metadata": {},
   "source": [
    "# Isomatrix Tools\n",
    "\n",
    "> Tools for converting isomatrix files into anndata objects for integration with the Scanpy ecosystem.\n"
   ]
  },
  {
   "cell_type": "code",
   "execution_count": 1,
   "metadata": {},
   "outputs": [],
   "source": [
    "#| default_exp isomatrix_tools"
   ]
  },
  {
   "cell_type": "code",
   "execution_count": 2,
   "metadata": {},
   "outputs": [],
   "source": [
    "#| hide\n",
    "from nbdev.showdoc import *"
   ]
  },
  {
   "cell_type": "code",
   "execution_count": 3,
   "metadata": {},
   "outputs": [],
   "source": [
    "#| export\n",
    "import pandas as pd\n",
    "import scanpy as sc\n",
    "from scanpy import AnnData\n",
    "from scipy.sparse import csr_matrix\n",
    "import warnings\n",
    "\n",
    "def isomatrix_to_anndata(file_path:str,  # The path to the isomatrix csv file to be read.\n",
    "                        sparse:bool=True  # Flag to determine if the output should be a sparse matrix.\n",
    ") -> AnnData: # The converted isomatrix as a scanpy compatible  anndata object\n",
    "    \"\"\"\n",
    "    This function converts an isomatrix txt file (SiCeLoRe output) into an AnnData object compatible with scanpy\n",
    "\n",
    "    \"\"\"\n",
    "    \n",
    "    # Read in the data from the file\n",
    "    df = pd.read_csv(file_path, sep='\\t', index_col=0)\n",
    "    # Filter out rows where the transcriptId is \"undef\"\n",
    "    df = df.loc[df[\"transcriptId\"] != \"undef\"]\n",
    "    \n",
    "    df = df.reset_index()\n",
    "    df = df.transpose()\n",
    "    \n",
    "    # Extract the rows with 'gene_id', 'transcript_id', 'nb_exons' from the DataFrame\n",
    "    additional_info_rows = df.loc[df.index.intersection(['geneId', 'transcriptId', 'nbExons'])]\n",
    "    # Drop 'gene_id', 'transcript_id', 'nb_exons' rows from the DataFrame if they exist\n",
    "    df = df.drop(['geneId', 'transcriptId', 'nbExons'], errors='ignore')\n",
    "\n",
    "    # Convert the DataFrame to a sparse matrix if the sparse flag is True\n",
    "    if sparse:\n",
    "        matrix = csr_matrix(df.values.astype('float32'))\n",
    "    else:\n",
    "        try:\n",
    "            matrix = df.values.astype('float32')\n",
    "        except ValueError:\n",
    "            print(\"Error: Non-numeric data present in the DataFrame. Cannot convert to float.\")\n",
    "            return None\n",
    "    \n",
    "    # Convert the matrix to an AnnData object\n",
    "    with warnings.catch_warnings():\n",
    "        warnings.simplefilter(\"ignore\")\n",
    "        anndata = sc.AnnData(X=matrix, obs=pd.DataFrame(index=df.index), var=pd.DataFrame(index=df.columns))\n",
    "    \n",
    "    # Add additional information to the AnnData object vars\n",
    "    for info in ['geneId', 'transcriptId', 'nbExons']:\n",
    "        if info in additional_info_rows.index:\n",
    "            anndata.var[info] = additional_info_rows.loc[info, :].values\n",
    "            if info == 'nbExons':\n",
    "                anndata.var[info] = anndata.var[info].astype('int32')\n",
    "    \n",
    "    return anndata"
   ]
  },
  {
   "cell_type": "code",
   "execution_count": 4,
   "metadata": {},
   "outputs": [],
   "source": [
    "#| export\n",
    "def download_test_data() -> str: #The absolute path of the extracted file 'sample_isomatrix.txt' if the download is successful.\n",
    "    \"\"\"\n",
    "    This function downloads a test data file from a specified URL, saves it locally, and extracts it.\n",
    "    \"\"\"\n",
    "    import urllib.request\n",
    "    import gzip\n",
    "    import shutil\n",
    "    import os\n",
    "\n",
    "    # URL of the file to be downloaded\n",
    "    url = \"https://ftp.ncbi.nlm.nih.gov/geo/samples/GSM3748nnn/GSM3748087/suppl/GSM3748087%5F190c.isoforms.matrix.txt.gz\"\n",
    "\n",
    "    # Download the file from `url` and save it locally under `file.txt.gz`:\n",
    "    urllib.request.urlretrieve(url, 'file.txt.gz')\n",
    "\n",
    "    # Check if the file is downloaded correctly\n",
    "    if os.path.exists('file.txt.gz'):\n",
    "        print(\"File downloaded successfully\")\n",
    "        # Now we need to extract the file\n",
    "        with gzip.open('file.txt.gz', 'rb') as f_in:\n",
    "            with open('sample_isomatrix.txt', 'wb') as f_out:\n",
    "                shutil.copyfileobj(f_in, f_out)\n",
    "        print(\"File extracted successfully\")\n",
    "        return os.path.abspath('sample_isomatrix.txt')\n",
    "    else:\n",
    "        print(\"Failed to download the file\")\n",
    "        return None\n"
   ]
  },
  {
   "cell_type": "markdown",
   "metadata": {},
   "source": [
    "Example usage of `isomatrix_to_anndata`: We can use the `download_test_data` function to download a small isoform matrix dataset for demonstrating the functionality.\n"
   ]
  },
  {
   "cell_type": "code",
   "execution_count": 5,
   "metadata": {},
   "outputs": [
    {
     "name": "stdout",
     "output_type": "stream",
     "text": [
      "File downloaded successfully\n",
      "File extracted successfully\n"
     ]
    }
   ],
   "source": [
    "from longreadtools.isomatrix_tools import * \n",
    "test_file = download_test_data() "
   ]
  },
  {
   "cell_type": "code",
   "execution_count": 6,
   "metadata": {},
   "outputs": [],
   "source": [
    "anndata = isomatrix_to_anndata(test_file)"
   ]
  },
  {
   "cell_type": "markdown",
   "metadata": {},
   "source": [
    "Lets take a look at the anndata object generated from the isomatrix."
   ]
  },
  {
   "cell_type": "code",
   "execution_count": 7,
   "metadata": {},
   "outputs": [
    {
     "data": {
      "text/html": [
       "<div>\n",
       "<style scoped>\n",
       "    .dataframe tbody tr th:only-of-type {\n",
       "        vertical-align: middle;\n",
       "    }\n",
       "\n",
       "    .dataframe tbody tr th {\n",
       "        vertical-align: top;\n",
       "    }\n",
       "\n",
       "    .dataframe thead th {\n",
       "        text-align: right;\n",
       "    }\n",
       "</style>\n",
       "<table border=\"1\" class=\"dataframe\">\n",
       "  <thead>\n",
       "    <tr style=\"text-align: right;\">\n",
       "      <th></th>\n",
       "      <th>geneId</th>\n",
       "      <th>transcriptId</th>\n",
       "    </tr>\n",
       "  </thead>\n",
       "  <tbody>\n",
       "    <tr>\n",
       "      <th>0</th>\n",
       "      <td>Klc2</td>\n",
       "      <td>ENSMUST00000156717.1</td>\n",
       "    </tr>\n",
       "    <tr>\n",
       "      <th>1</th>\n",
       "      <td>Capn15</td>\n",
       "      <td>ENSMUST00000212520.1</td>\n",
       "    </tr>\n",
       "    <tr>\n",
       "      <th>2</th>\n",
       "      <td>Klc2</td>\n",
       "      <td>ENSMUST00000025798.12</td>\n",
       "    </tr>\n",
       "    <tr>\n",
       "      <th>3</th>\n",
       "      <td>Eva1c</td>\n",
       "      <td>ENSMUST00000231280.1</td>\n",
       "    </tr>\n",
       "    <tr>\n",
       "      <th>4</th>\n",
       "      <td>Atg5</td>\n",
       "      <td>ENSMUST00000039286.4</td>\n",
       "    </tr>\n",
       "    <tr>\n",
       "      <th>...</th>\n",
       "      <td>...</td>\n",
       "      <td>...</td>\n",
       "    </tr>\n",
       "    <tr>\n",
       "      <th>20829</th>\n",
       "      <td>Kcnj9</td>\n",
       "      <td>ENSMUST00000062387.7</td>\n",
       "    </tr>\n",
       "    <tr>\n",
       "      <th>20830</th>\n",
       "      <td>Iqcg</td>\n",
       "      <td>ENSMUST00000115100.8</td>\n",
       "    </tr>\n",
       "    <tr>\n",
       "      <th>20831</th>\n",
       "      <td>Nt5dc2</td>\n",
       "      <td>ENSMUST00000227096.1</td>\n",
       "    </tr>\n",
       "    <tr>\n",
       "      <th>20832</th>\n",
       "      <td>Emg1</td>\n",
       "      <td>ENSMUST00000004379.7</td>\n",
       "    </tr>\n",
       "    <tr>\n",
       "      <th>20833</th>\n",
       "      <td>Kat6a</td>\n",
       "      <td>ENSMUST00000110696.7</td>\n",
       "    </tr>\n",
       "  </tbody>\n",
       "</table>\n",
       "<p>20834 rows × 2 columns</p>\n",
       "</div>"
      ],
      "text/plain": [
       "       geneId           transcriptId\n",
       "0        Klc2   ENSMUST00000156717.1\n",
       "1      Capn15   ENSMUST00000212520.1\n",
       "2        Klc2  ENSMUST00000025798.12\n",
       "3       Eva1c   ENSMUST00000231280.1\n",
       "4        Atg5   ENSMUST00000039286.4\n",
       "...       ...                    ...\n",
       "20829   Kcnj9   ENSMUST00000062387.7\n",
       "20830    Iqcg   ENSMUST00000115100.8\n",
       "20831  Nt5dc2   ENSMUST00000227096.1\n",
       "20832    Emg1   ENSMUST00000004379.7\n",
       "20833   Kat6a   ENSMUST00000110696.7\n",
       "\n",
       "[20834 rows x 2 columns]"
      ]
     },
     "execution_count": 7,
     "metadata": {},
     "output_type": "execute_result"
    }
   ],
   "source": [
    "anndata.var"
   ]
  },
  {
   "cell_type": "code",
   "execution_count": 8,
   "metadata": {},
   "outputs": [],
   "source": [
    "#| hide\n",
    "def test_isomatrix_to_anndata():\n",
    "    # Test with a known file\n",
    "    test_file = download_test_data()\n",
    "    anndata = isomatrix_to_anndata(test_file)\n",
    "\n",
    "    # Check the type of the returned object\n",
    "    assert isinstance(anndata, sc.AnnData), \"The returned object is not an AnnData object.\"\n",
    "\n",
    "    # Check the dimensions of the AnnData object\n",
    "    assert anndata.shape == (190, 20834), \"The dimensions of the AnnData object are not as expected.\"\n",
    "\n",
    "    # Check the var names of the AnnData object\n",
    "    assert 'geneId' in anndata.var, \"The 'geneId' is not in the var of the AnnData object.\"\n",
    "    assert 'transcriptId' in anndata.var, \"The 'transcriptId' is not in the var of the AnnData object.\"\n",
    "\n",
    "\n"
   ]
  },
  {
   "cell_type": "code",
   "execution_count": 9,
   "metadata": {},
   "outputs": [
    {
     "name": "stdout",
     "output_type": "stream",
     "text": [
      "File downloaded successfully\n",
      "File extracted successfully\n"
     ]
    }
   ],
   "source": [
    "test_file = download_test_data()"
   ]
  },
  {
   "cell_type": "markdown",
   "metadata": {},
   "source": [
    "Often, it may be necessary to convert more than one isomatrix in bulk. The function `multiple_isomatrix_conversion` has been designed for this purpose. It leverages Python's multiprocessing capabilities to perform this task in a fast and efficient manner.\n"
   ]
  },
  {
   "cell_type": "code",
   "execution_count": 10,
   "metadata": {},
   "outputs": [],
   "source": [
    "#| export\n",
    "import numpy as np \n",
    "from pandas import DataFrame\n",
    "\n",
    "def simulate_isomatrix(num_genes: int, # number of genes (groups of rows)\n",
    "                       num_transcripts_per_gene: int, # number of transcripts per gene\n",
    "                       num_samples: int, # number of samples (columns)\n",
    "                       sparsity: float = 0.95, # fraction of zeros in the data (default 0.95)\n",
    "                       max_expression: int = 100, # maximum expression level for any transcript in any sample\n",
    "                       seed: int = 0 # random seed for reproducibility\n",
    "                      ) -> DataFrame : # DataFrame with simulated transcript expression data for demonstration purposes.\n",
    "    \"\"\"\n",
    "    Simulate transcript expression data to match the structure of the first image provided by the user.\n",
    "    Allows specifying the number of genes, transcripts per gene, and samples.\n",
    "    \"\"\"\n",
    "    # Set random seed for reproducibility\n",
    "    np.random.seed(seed)\n",
    "    \n",
    "    # Calculate total number of transcripts\n",
    "    total_transcripts = num_genes * num_transcripts_per_gene\n",
    "    \n",
    "    # Generate random data\n",
    "    data = np.random.rand(total_transcripts, num_samples)\n",
    "    \n",
    "    # Apply sparsity\n",
    "    zero_mask = np.random.rand(total_transcripts, num_samples) > sparsity\n",
    "    data[~zero_mask] = 0  # Set a fraction of data to 0 based on sparsity\n",
    "    \n",
    "    # Scale data to have values up to max_expression\n",
    "    data = np.ceil(data * max_expression).astype(int)\n",
    "    \n",
    "    # Generate transcript and sample labels\n",
    "    transcript_ids = [f\"ENSMUST00000{str(i).zfill(6)}.1\" for i in range(1, total_transcripts + 1)]\n",
    "    gene_ids = [f\"Gene_{(i // num_transcripts_per_gene) + 1}\" for i in range(total_transcripts)]\n",
    "    nb_exons = np.random.randint(1, 21, total_transcripts)  # Assuming 1-20 exons based on typical gene structures\n",
    "    sample_ids = [f\"CACCTACACGTCAAC{str(i).zfill(2)}\" for i in range(1, num_samples + 1)]\n",
    "    \n",
    "    # Create DataFrame\n",
    "    df = pd.DataFrame(data, index=gene_ids, columns=sample_ids)\n",
    "    df.index.name = 'geneId'  # Add index name\n",
    "    df.insert(0, 'transcriptId', transcript_ids)\n",
    "    df.insert(1, 'nbExons', nb_exons)\n",
    "    \n",
    "    return df\n",
    "\n",
    "import os\n",
    "\n",
    "\n"
   ]
  },
  {
   "cell_type": "code",
   "execution_count": 11,
   "metadata": {},
   "outputs": [],
   "source": [
    "#| export\n",
    "def simulate_and_save_isomatrices(num_isomatrix: int, # int, number of isomatrix to generate\n",
    "                                num_genes: int, # int, number of genes (groups of rows)\n",
    "                                num_transcripts_per_gene: int, # int, number of transcripts per gene\n",
    "                                num_samples: int, # int, number of samples (columns)\n",
    "                                sparsity: float = 0.95, # float, fraction of zeros in the data (default 0.95)\n",
    "                                max_expression: int = 100, # int, maximum expression level for any transcript in any sample\n",
    "                                seed: int = 0, # int, random seed for reproducibility\n",
    "                                output_dir: str = './', # str, directory to save the generated isomatrix txt files\n",
    "                                return_paths: bool = False, # bool, return paths to the isomatrixs as a list of strings if True\n",
    "                                verbose: bool = False # bool, print progress messages if True\n",
    "                               ) -> list:\n",
    "    \n",
    "    \"\"\"\n",
    "    Simulate multiple isomatrix and save them as txt files in the specified directory.\n",
    "    If return_paths is True, return a list of paths to the saved isomatrix files.\n",
    "    \"\"\"\n",
    "    # Ensure output directory exists\n",
    "    os.makedirs(output_dir, exist_ok=True)\n",
    "    \n",
    "    output_files = []\n",
    "    for i in range(num_isomatrix):\n",
    "        # Generate isomatrix\n",
    "        df = simulate_isomatrix(num_genes, num_transcripts_per_gene, num_samples, sparsity, max_expression, seed+i)\n",
    "        \n",
    "        # Save to txt file\n",
    "        output_file = os.path.join(output_dir, f'isomatrix_{i+1}.txt')\n",
    "        df.to_csv(output_file, sep='\\t')\n",
    "        \n",
    "        if verbose:\n",
    "            print(f'Isomatrix {i+1} saved to {output_file}')\n",
    "        output_files.append(output_file)\n",
    "    \n",
    "    if return_paths:\n",
    "        return output_files"
   ]
  },
  {
   "cell_type": "code",
   "execution_count": 12,
   "metadata": {},
   "outputs": [],
   "source": [
    "#| hide\n",
    "#| export\n",
    "def convert_and_save_file(sample, verbose):\n",
    "    anndata = isomatrix_to_anndata(sample)\n",
    "    anndata.write_h5ad(sample.replace('.txt', '.h5ad'))\n",
    "    if verbose:\n",
    "        print(f\"File {sample.replace('.txt', '.h5ad')} was successfully written to disk.\")"
   ]
  },
  {
   "cell_type": "code",
   "execution_count": 13,
   "metadata": {},
   "outputs": [],
   "source": [
    "#| export\n",
    "from multiprocessing import Pool\n",
    "import os\n",
    "from functools import partial\n",
    "\n",
    "\n",
    "def multiple_isomatrix_conversion(file_paths: list, # A list of file paths to be converted.\n",
    "                                  verbose: bool = False # If True, print progress messages.\n",
    "                                  ):\n",
    "    \"\"\"\n",
    "    This function takes a list of file paths, converts each file from isomatrix to anndata format, \n",
    "    and saves the converted file in the same location with the same name but with a .h5ad extension.\n",
    "    \"\"\"\n",
    "    with Pool() as p:\n",
    "        p.map(partial(convert_and_save_file, verbose=verbose), file_paths)\n"
   ]
  },
  {
   "cell_type": "markdown",
   "metadata": {},
   "source": [
    "Here is an example of how to use the function to convert multiple Isomatrix objects simultaneously. The function requires a list of paths to the Isomatrix text files as input. To demonstrate this functionality and to aid further development by other contributors, the ability to simulate the Isomatrix data has been provided.\n",
    " \n",
    "In this section, we will be making use of the `simulate_and_save_isomatrices` function to generate and store 10 isomatrices. Following this, the `multiple_isomatrix_conversion` function will be employed to convert these isomatrices into anndata objects and subsequently save them to the disk.\n",
    "\n"
   ]
  },
  {
   "cell_type": "code",
   "execution_count": 14,
   "metadata": {},
   "outputs": [
    {
     "name": "stdout",
     "output_type": "stream",
     "text": [
      "File ./isomatrix_2.h5ad was successfully written to disk.File ./isomatrix_3.h5ad was successfully written to disk.File ./isomatrix_10.h5ad was successfully written to disk.File ./isomatrix_8.h5ad was successfully written to disk.File ./isomatrix_6.h5ad was successfully written to disk.File ./isomatrix_7.h5ad was successfully written to disk.File ./isomatrix_5.h5ad was successfully written to disk.File ./isomatrix_9.h5ad was successfully written to disk.File ./isomatrix_4.h5ad was successfully written to disk.File ./isomatrix_1.h5ad was successfully written to disk.\n",
      "\n",
      "\n",
      "\n",
      "\n",
      "\n",
      "\n",
      "\n",
      "\n",
      "\n"
     ]
    }
   ],
   "source": [
    "isomatrice_paths = simulate_and_save_isomatrices(num_isomatrix=10, num_genes=1000, num_transcripts_per_gene=5, num_samples=100, sparsity=0.9, max_expression=100, seed=42, output_dir='./', return_paths=True, verbose=False)\n",
    "multiple_isomatrix_conversion(isomatrice_paths, verbose=True)"
   ]
  },
  {
   "cell_type": "markdown",
   "metadata": {},
   "source": [
    "Let's load our simulated and converted AnnData object\n"
   ]
  },
  {
   "cell_type": "code",
   "execution_count": 15,
   "metadata": {},
   "outputs": [],
   "source": [
    "converted_simulation = sc.read_h5ad(\"/data/analysis/data_mcandrew/longreadtools/nbs/isomatrix_10.h5ad\")"
   ]
  },
  {
   "cell_type": "code",
   "execution_count": 16,
   "metadata": {},
   "outputs": [
    {
     "data": {
      "text/html": [
       "<div>\n",
       "<style scoped>\n",
       "    .dataframe tbody tr th:only-of-type {\n",
       "        vertical-align: middle;\n",
       "    }\n",
       "\n",
       "    .dataframe tbody tr th {\n",
       "        vertical-align: top;\n",
       "    }\n",
       "\n",
       "    .dataframe thead th {\n",
       "        text-align: right;\n",
       "    }\n",
       "</style>\n",
       "<table border=\"1\" class=\"dataframe\">\n",
       "  <thead>\n",
       "    <tr style=\"text-align: right;\">\n",
       "      <th></th>\n",
       "      <th>geneId</th>\n",
       "      <th>transcriptId</th>\n",
       "      <th>nbExons</th>\n",
       "    </tr>\n",
       "  </thead>\n",
       "  <tbody>\n",
       "    <tr>\n",
       "      <th>0</th>\n",
       "      <td>Gene_1</td>\n",
       "      <td>ENSMUST00000000001.1</td>\n",
       "      <td>6</td>\n",
       "    </tr>\n",
       "    <tr>\n",
       "      <th>1</th>\n",
       "      <td>Gene_1</td>\n",
       "      <td>ENSMUST00000000002.1</td>\n",
       "      <td>2</td>\n",
       "    </tr>\n",
       "    <tr>\n",
       "      <th>2</th>\n",
       "      <td>Gene_1</td>\n",
       "      <td>ENSMUST00000000003.1</td>\n",
       "      <td>17</td>\n",
       "    </tr>\n",
       "    <tr>\n",
       "      <th>3</th>\n",
       "      <td>Gene_1</td>\n",
       "      <td>ENSMUST00000000004.1</td>\n",
       "      <td>14</td>\n",
       "    </tr>\n",
       "    <tr>\n",
       "      <th>4</th>\n",
       "      <td>Gene_1</td>\n",
       "      <td>ENSMUST00000000005.1</td>\n",
       "      <td>6</td>\n",
       "    </tr>\n",
       "    <tr>\n",
       "      <th>...</th>\n",
       "      <td>...</td>\n",
       "      <td>...</td>\n",
       "      <td>...</td>\n",
       "    </tr>\n",
       "    <tr>\n",
       "      <th>4995</th>\n",
       "      <td>Gene_1000</td>\n",
       "      <td>ENSMUST00000004996.1</td>\n",
       "      <td>4</td>\n",
       "    </tr>\n",
       "    <tr>\n",
       "      <th>4996</th>\n",
       "      <td>Gene_1000</td>\n",
       "      <td>ENSMUST00000004997.1</td>\n",
       "      <td>16</td>\n",
       "    </tr>\n",
       "    <tr>\n",
       "      <th>4997</th>\n",
       "      <td>Gene_1000</td>\n",
       "      <td>ENSMUST00000004998.1</td>\n",
       "      <td>7</td>\n",
       "    </tr>\n",
       "    <tr>\n",
       "      <th>4998</th>\n",
       "      <td>Gene_1000</td>\n",
       "      <td>ENSMUST00000004999.1</td>\n",
       "      <td>14</td>\n",
       "    </tr>\n",
       "    <tr>\n",
       "      <th>4999</th>\n",
       "      <td>Gene_1000</td>\n",
       "      <td>ENSMUST00000005000.1</td>\n",
       "      <td>3</td>\n",
       "    </tr>\n",
       "  </tbody>\n",
       "</table>\n",
       "<p>5000 rows × 3 columns</p>\n",
       "</div>"
      ],
      "text/plain": [
       "         geneId          transcriptId  nbExons\n",
       "0        Gene_1  ENSMUST00000000001.1        6\n",
       "1        Gene_1  ENSMUST00000000002.1        2\n",
       "2        Gene_1  ENSMUST00000000003.1       17\n",
       "3        Gene_1  ENSMUST00000000004.1       14\n",
       "4        Gene_1  ENSMUST00000000005.1        6\n",
       "...         ...                   ...      ...\n",
       "4995  Gene_1000  ENSMUST00000004996.1        4\n",
       "4996  Gene_1000  ENSMUST00000004997.1       16\n",
       "4997  Gene_1000  ENSMUST00000004998.1        7\n",
       "4998  Gene_1000  ENSMUST00000004999.1       14\n",
       "4999  Gene_1000  ENSMUST00000005000.1        3\n",
       "\n",
       "[5000 rows x 3 columns]"
      ]
     },
     "execution_count": 16,
     "metadata": {},
     "output_type": "execute_result"
    }
   ],
   "source": [
    "converted_simulation.var"
   ]
  },
  {
   "cell_type": "code",
   "execution_count": 17,
   "metadata": {},
   "outputs": [],
   "source": [
    "#| hide\n",
    "import nbdev; nbdev.nbdev_export()"
   ]
  }
 ],
 "metadata": {
  "kernelspec": {
   "display_name": "python3",
   "language": "python",
   "name": "python3"
  },
  "language_info": {
   "codemirror_mode": {
    "name": "ipython",
    "version": 3
   },
   "file_extension": ".py",
   "mimetype": "text/x-python",
   "name": "python",
   "nbconvert_exporter": "python",
   "pygments_lexer": "ipython3",
   "version": "3.11.4"
  }
 },
 "nbformat": 4,
 "nbformat_minor": 4
}
