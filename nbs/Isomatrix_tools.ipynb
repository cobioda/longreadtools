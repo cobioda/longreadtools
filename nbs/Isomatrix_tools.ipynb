{
 "cells": [
  {
   "cell_type": "markdown",
   "metadata": {},
   "source": [
    "# Isomatrix Tools\n",
    "\n",
    "> Tools for converting isomatrix files into anndata objects for integration with the Scanpy ecosystem.\n"
   ]
  },
  {
   "cell_type": "code",
   "execution_count": 1,
   "metadata": {},
   "outputs": [],
   "source": [
    "#| default_exp isomatrix_tools"
   ]
  },
  {
   "cell_type": "code",
   "execution_count": 2,
   "metadata": {},
   "outputs": [],
   "source": [
    "#| hide\n",
    "from nbdev.showdoc import *"
   ]
  },
  {
   "cell_type": "code",
   "execution_count": 3,
   "metadata": {},
   "outputs": [],
   "source": [
    "#| export\n",
    "def download_test_data():\n",
    "    import urllib.request\n",
    "    import gzip\n",
    "    import shutil\n",
    "    import os\n",
    "\n",
    "    # URL of the file to be downloaded\n",
    "    url = \"https://ftp.ncbi.nlm.nih.gov/geo/samples/GSM3748nnn/GSM3748087/suppl/GSM3748087%5F190c.isoforms.matrix.txt.gz\"\n",
    "\n",
    "    # Download the file from `url` and save it locally under `file.txt.gz`:\n",
    "    urllib.request.urlretrieve(url, 'file.txt.gz')\n",
    "\n",
    "    # Check if the file is downloaded correctly\n",
    "    if os.path.exists('file.txt.gz'):\n",
    "        print(\"File downloaded successfully\")\n",
    "        # Now we need to extract the file\n",
    "        with gzip.open('file.txt.gz', 'rb') as f_in:\n",
    "            with open('sample_isomatrix.txt', 'wb') as f_out:\n",
    "                shutil.copyfileobj(f_in, f_out)\n",
    "        print(\"File extracted successfully\")\n",
    "        return os.path.abspath('sample_isomatrix.txt')\n",
    "    else:\n",
    "        print(\"Failed to download the file\")\n",
    "        return None\n",
    "\n"
   ]
  },
  {
   "cell_type": "code",
   "execution_count": 4,
   "metadata": {},
   "outputs": [],
   "source": [
    "#| export\n",
    "import pandas as pd\n",
    "import scanpy as sc\n",
    "from scanpy import AnnData\n",
    "from scipy.sparse import csr_matrix\n",
    "import warnings\n",
    "\n",
    "def isomatrix_to_anndata(file_path:str,  # The path to the isomatrix csv file to be read.\n",
    "                        sparse:bool=True  # Flag to determine if the output should be a sparse matrix.\n",
    ") -> AnnData: # The converted isomatrix as a scanpy compatible  anndata object\n",
    "    \"\"\"\n",
    "    This function reads a file into a pandas DataFrame, performs some transformations, \n",
    "    and then converts the DataFrame into a sparse matrix and an AnnData object.\n",
    "\n",
    "    \"\"\"\n",
    "    \n",
    "    # Read in the data from the file\n",
    "    df = pd.read_csv(file_path, sep='\\t', index_col=0)\n",
    "    # Filter out rows where the transcriptId is \"undef\"\n",
    "    df = df.loc[df[\"transcriptId\"] != \"undef\"]\n",
    "    \n",
    "    df = df.reset_index()\n",
    "    df = df.transpose()\n",
    "    \n",
    "    # Extract the rows with 'gene_id', 'transcript_id', 'nb_exons' from the DataFrame\n",
    "    additional_info_rows = df.loc[df.index.intersection(['geneId', 'transcriptId', 'nbExons'])]\n",
    "    # Drop 'gene_id', 'transcript_id', 'nb_exons' rows from the DataFrame if they exist\n",
    "    df = df.drop(['geneId', 'transcriptId', 'nbExons'], errors='ignore')\n",
    "\n",
    "    # Convert the DataFrame to a sparse matrix if the sparse flag is True\n",
    "    if sparse:\n",
    "        matrix = csr_matrix(df.values.astype('float32'))\n",
    "    else:\n",
    "        try:\n",
    "            matrix = df.values.astype('float32')\n",
    "        except ValueError:\n",
    "            print(\"Error: Non-numeric data present in the DataFrame. Cannot convert to float.\")\n",
    "            return None\n",
    "    \n",
    "    # Convert the matrix to an AnnData object\n",
    "    with warnings.catch_warnings():\n",
    "        warnings.simplefilter(\"ignore\")\n",
    "        anndata = sc.AnnData(X=matrix, obs=pd.DataFrame(index=df.index), var=pd.DataFrame(index=df.columns))\n",
    "    \n",
    "    # Add additional information to the AnnData object vars\n",
    "    for info in ['geneId', 'transcriptId', 'nbExons']:\n",
    "        if info in additional_info_rows.index:\n",
    "            anndata.var[info] = additional_info_rows.loc[info, :].values\n",
    "            if info == 'nbExons':\n",
    "                anndata.var[info] = anndata.var[info].astype('int32')\n",
    "    \n",
    "    return anndata"
   ]
  },
  {
   "cell_type": "markdown",
   "metadata": {},
   "source": [
    "Example Usage of isomatrix_to_anndata:"
   ]
  },
  {
   "cell_type": "code",
   "execution_count": 5,
   "metadata": {},
   "outputs": [
    {
     "name": "stdout",
     "output_type": "stream",
     "text": [
      "File downloaded successfully\n",
      "File extracted successfully\n",
      "File downloaded successfully\n",
      "File extracted successfully\n"
     ]
    }
   ],
   "source": [
    "import longreadtools.isomatrix_tools \n",
    "test_file = download_test_data() \n",
    "anndata = isomatrix_to_anndata(test_file)"
   ]
  },
  {
   "cell_type": "markdown",
   "metadata": {},
   "source": [
    "Lets take a look at the anndata object generated from the isomatrix."
   ]
  },
  {
   "cell_type": "code",
   "execution_count": 6,
   "metadata": {},
   "outputs": [
    {
     "data": {
      "text/plain": [
       "AnnData object with n_obs × n_vars = 190 × 20834\n",
       "    var: 'geneId', 'transcriptId'"
      ]
     },
     "execution_count": 6,
     "metadata": {},
     "output_type": "execute_result"
    }
   ],
   "source": [
    "anndata"
   ]
  },
  {
   "cell_type": "code",
   "execution_count": 7,
   "metadata": {},
   "outputs": [],
   "source": [
    "#| export\n",
    "\n",
    "def test_isomatrix_to_anndata():\n",
    "    # Test with a known file\n",
    "    test_file = download_test_data()\n",
    "    anndata = isomatrix_to_anndata(test_file)\n",
    "\n",
    "    # Check the type of the returned object\n",
    "    assert isinstance(anndata, sc.AnnData), \"The returned object is not an AnnData object.\"\n",
    "\n",
    "    # Check the dimensions of the AnnData object\n",
    "    assert anndata.shape == (190, 20834), \"The dimensions of the AnnData object are not as expected.\"\n",
    "\n",
    "    # Check the var names of the AnnData object\n",
    "    assert 'geneId' in anndata.var, \"The 'geneId' is not in the var of the AnnData object.\"\n",
    "    assert 'transcriptId' in anndata.var, \"The 'transcriptId' is not in the var of the AnnData object.\"\n",
    "\n",
    "\n"
   ]
  },
  {
   "cell_type": "code",
   "execution_count": 8,
   "metadata": {},
   "outputs": [],
   "source": [
    "#| hide\n",
    "import nbdev; nbdev.nbdev_export()"
   ]
  }
 ],
 "metadata": {
  "kernelspec": {
   "display_name": "python3",
   "language": "python",
   "name": "python3"
  },
  "language_info": {
   "codemirror_mode": {
    "name": "ipython",
    "version": 3
   },
   "file_extension": ".py",
   "mimetype": "text/x-python",
   "name": "python",
   "nbconvert_exporter": "python",
   "pygments_lexer": "ipython3",
   "version": "3.11.4"
  }
 },
 "nbformat": 4,
 "nbformat_minor": 4
}
