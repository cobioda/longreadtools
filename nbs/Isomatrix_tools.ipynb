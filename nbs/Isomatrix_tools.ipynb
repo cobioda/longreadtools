{
 "cells": [
  {
   "cell_type": "markdown",
   "metadata": {},
   "source": [
    "# Isomatrix Tools\n",
    "\n",
    "> Tools for converting isomatrix files into anndata objects for integration with the Scanpy ecosystem.\n"
   ]
  },
  {
   "cell_type": "code",
   "execution_count": 1,
   "metadata": {},
   "outputs": [],
   "source": [
    "#| default_exp isomatrix_tools"
   ]
  },
  {
   "cell_type": "code",
   "execution_count": 2,
   "metadata": {},
   "outputs": [],
   "source": [
    "#| hide\n",
    "from nbdev.showdoc import *"
   ]
  },
  {
   "cell_type": "code",
   "execution_count": 3,
   "metadata": {},
   "outputs": [],
   "source": [
    "#| export\n",
    "import pandas as pd\n",
    "import scanpy as sc\n",
    "from scanpy import AnnData\n",
    "from scipy.sparse import csr_matrix\n",
    "\n",
    "def isomatrix_to_anndata(file_path:str,  # The path to the isomatrix csv file to be read.\n",
    "                        sparse:bool=True  # Flag to determine if the output should be a sparse matrix.\n",
    ") -> AnnData: # The converted isomatix as a scanpy compatible  anndata object\n",
    "    \"\"\"\n",
    "    This function reads a file into a pandas DataFrame, performs some transformations, \n",
    "    and then converts the DataFrame into a sparse matrix and an AnnData object.\n",
    "    \n",
    "    Returns:\n",
    "    anndata (AnnData): The resulting AnnData object.\n",
    "    \"\"\"\n",
    "    \n",
    "    # Read in the data from the file\n",
    "    df = pd.read_csv(file_path, sep='\\t', index_col=0)\n",
    "    \n",
    "    # Filter out rows where the transcriptId is \"undef\"\n",
    "    df = df.loc[df[\"transcriptId\"] != \"undef\"]\n",
    "    \n",
    "    # Reset the index of the DataFrame\n",
    "    df = df.reset_index()\n",
    "    \n",
    "    # Transpose the DataFrame\n",
    "    df = df.T\n",
    "    \n",
    "    # Create a copy of the DataFrame for later use\n",
    "    df_1 = df.copy()\n",
    "    \n",
    "    # Update the column names of the DataFrame\n",
    "    df.columns = df_1.iloc[0].astype(str) + \"_\" + df_1.iloc[1].astype(str)\n",
    "    \n",
    "    # Extract the first three rows from the copied DataFrame\n",
    "    first_three_rows = df_1.iloc[:3]\n",
    "  \n",
    "    # Drop unnecessary rows from the DataFrame\n",
    "    df = df.iloc[3:]\n",
    "    \n",
    "    # Convert the DataFrame to a sparse matrix if the sparse flag is True\n",
    "    if sparse:\n",
    "        matrix = csr_matrix(df.values.astype('float32'))\n",
    "    else:\n",
    "        matrix = df.values.astype('float32')\n",
    "    \n",
    "    # Convert the matrix to an AnnData object\n",
    "    anndata = sc.AnnData(X=matrix, obs=pd.DataFrame(index=df.index), var=pd.DataFrame(index=df.columns))\n",
    "    \n",
    "    # Add additional information to the AnnData object vars\n",
    "    anndata.var['gene_id'] = first_three_rows.iloc[0, :].values\n",
    "    anndata.var['transcript_id'] = first_three_rows.iloc[1, :].values\n",
    "    anndata.var['nb_exons'] = first_three_rows.iloc[2, :].values.astype('int32')\n",
    "    \n",
    "    return anndata"
   ]
  },
  {
   "cell_type": "code",
   "execution_count": 4,
   "metadata": {},
   "outputs": [],
   "source": [
    "#| hide\n",
    "def test_isomatrix_to_anndata():\n",
    "    \"\"\"\n",
    "    Test the function isomatrix_to_anndata.\n",
    "    \"\"\"\n",
    "    # Define a test file path\n",
    "    test_file_path = \"/data/analysis/data_mcandrew/000-sclr-discovair/D498_BIOP_INT/D498_BIOP_INT_isomatrix.txt\"\n",
    "    \n",
    "    # Call the function with the test file path\n",
    "    anndata = isomatrix_to_anndata(test_file_path, sparse=False)\n",
    "    \n",
    "    # Assert that the returned object is an instance of AnnData\n",
    "    assert isinstance(anndata, sc.AnnData), \"The returned object is not an instance of AnnData.\"\n",
    "    \n",
    "    # Assert that the shape of the AnnData object is as expected\n",
    "    assert anndata.shape == (3494, 52277), \"The shape of the AnnData object is not as expected.\"\n",
    "    \n",
    "    # Assert that the var names of the AnnData object are as expected\n",
    "    expected_var_names = ['CYP4F12_ENST00000548501', 'CALCB_ENST00000324229', 'MYOF_ENST00000371489', 'SLC27A3_ENST00000368659', 'TMEM161B-AS1_ENST00000669353']\n",
    "    assert list(anndata.var_names[:5]) == expected_var_names, \"The var names of the AnnData object are not as expected.\"\n",
    "    \n",
    "    # Assert that the obs names of the AnnData object are as expected\n",
    "    expected_obs_names = ['AGGAAATGTACAAGCG', 'GCCATTCGTCGGAACA', 'TCGACCTCAGTGTGCC', 'CGTAGTATCAGTGTGT', 'GCCAGGTGTCTAACTG']\n",
    "    assert list(anndata.obs_names[:5]) == expected_obs_names, \"The obs names of the AnnData object are not as expected.\"\n",
    "\n",
    "    # Assert that the additional vars of the AnnData object are as expected\n",
    "    expected_additional_vars = ['gene_id', 'transcript_id', 'nb_exons']\n",
    "    assert list(anndata.var.columns) == expected_additional_vars, \"The additional vars of the AnnData object are not as expected.\"\n",
    "\n",
    "test_isomatrix_to_anndata()"
   ]
  },
  {
   "cell_type": "code",
   "execution_count": 5,
   "metadata": {},
   "outputs": [],
   "source": [
    "#| hide\n",
    "import nbdev; nbdev.nbdev_export()"
   ]
  }
 ],
 "metadata": {
  "kernelspec": {
   "display_name": "python3",
   "language": "python",
   "name": "python3"
  },
  "language_info": {
   "codemirror_mode": {
    "name": "ipython",
    "version": 3
   },
   "file_extension": ".py",
   "mimetype": "text/x-python",
   "name": "python",
   "nbconvert_exporter": "python",
   "pygments_lexer": "ipython3",
   "version": "3.11.4"
  }
 },
 "nbformat": 4,
 "nbformat_minor": 4
}
