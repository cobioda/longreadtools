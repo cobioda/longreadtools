{
 "cells": [
  {
   "cell_type": "markdown",
   "metadata": {},
   "source": [
    "# Isomatrix Tools\n",
    "\n",
    "> Tools for converting isomatrix files into anndata objects for integration with the Scanpy ecosystem.\n"
   ]
  },
  {
   "cell_type": "code",
   "execution_count": 6,
   "metadata": {},
   "outputs": [],
   "source": [
    "#| default_exp isomatrix_tools"
   ]
  },
  {
   "cell_type": "code",
   "execution_count": 7,
   "metadata": {},
   "outputs": [],
   "source": [
    "#| hide\n",
    "from nbdev.showdoc import *"
   ]
  },
  {
   "cell_type": "code",
   "execution_count": 8,
   "metadata": {},
   "outputs": [],
   "source": [
    "#| export\n",
    "import pandas as pd\n",
    "import scanpy as sc\n",
    "from scanpy import AnnData\n",
    "from scipy.sparse import csr_matrix\n",
    "\n",
    "def isomatrix_to_anndata(file_path:str,  # The path to the isomatrix csv file to be read.\n",
    "                        sparse:bool=True  # Flag to determine if the output should be a sparse matrix.\n",
    ") -> AnnData: # The converted isomatix as a scanpy compatible  anndata object\n",
    "    \"\"\"\n",
    "    This function reads a file into a pandas DataFrame, performs some transformations, \n",
    "    and then converts the DataFrame into a sparse matrix and an AnnData object.\n",
    "    \n",
    "    Returns:\n",
    "    anndata (AnnData): The resulting AnnData object.\n",
    "    \"\"\"\n",
    "    \n",
    "    # Read in the data from the file\n",
    "    df = pd.read_csv(file_path, sep='\\t', index_col=0)\n",
    "    \n",
    "    # Filter out rows where the transcriptId is \"undef\"\n",
    "    df = df.loc[df[\"transcriptId\"] != \"undef\"]\n",
    "    \n",
    "    # Reset the index of the DataFrame\n",
    "    df = df.reset_index()\n",
    "    \n",
    "    # Transpose the DataFrame\n",
    "    df = df.T\n",
    "    \n",
    "    # Create a copy of the DataFrame for later use\n",
    "    df_1 = df.copy()\n",
    "    \n",
    "    # Update the column names of the DataFrame\n",
    "    df.columns = df_1.iloc[0].astype(str) + \"_\" + df_1.iloc[1].astype(str)\n",
    "    \n",
    "    # Extract the first three rows from the copied DataFrame\n",
    "    first_three_rows = df_1.iloc[:3]\n",
    "  \n",
    "    # Drop unnecessary rows from the DataFrame\n",
    "    df = df.iloc[3:]\n",
    "    \n",
    "    # Convert the DataFrame to a sparse matrix if the sparse flag is True\n",
    "    if sparse:\n",
    "        matrix = csr_matrix(df.values.astype('float32'))\n",
    "    else:\n",
    "        matrix = df.values.astype('float32')\n",
    "    \n",
    "    # Convert the matrix to an AnnData object\n",
    "    anndata = sc.AnnData(X=matrix, obs=pd.DataFrame(index=df.index), var=pd.DataFrame(index=df.columns))\n",
    "    \n",
    "    # Add additional information to the AnnData object vars\n",
    "    anndata.var['gene_id'] = first_three_rows.iloc[0, :].values\n",
    "    anndata.var['transcript_id'] = first_three_rows.iloc[1, :].values\n",
    "    anndata.var['nb_exons'] = first_three_rows.iloc[2, :].values.astype('int32')\n",
    "    \n",
    "    return anndata"
   ]
  },
  {
   "cell_type": "code",
   "execution_count": 9,
   "metadata": {},
   "outputs": [],
   "source": [
    "\n",
    "def test_isomatrix_to_anndata():\n",
    "    \"\"\"\n",
    "    Test the function isomatrix_to_anndata.\n",
    "    \"\"\"\n",
    "    # Define a test file path\n",
    "    test_file_path = \"/data/analysis/data_mcandrew/000-sclr-discovair/D498_BIOP_INT/D498_BIOP_INT_isomatrix.txt\"\n",
    "    \n",
    "    # Call the function with the test file path\n",
    "    anndata = isomatrix_to_anndata(test_file_path, sparse=False)\n",
    "    \n",
    "    # Assert that the returned object is an instance of AnnData\n",
    "    assert isinstance(anndata, sc.AnnData), \"The returned object is not an instance of AnnData.\"\n",
    "    \n",
    "    # Assert that the shape of the AnnData object is as expected\n",
    "    assert anndata.shape == (3494, 52277), \"The shape of the AnnData object is not as expected.\"\n",
    "    \n",
    "    # Assert that the var names of the AnnData object are as expected\n",
    "    expected_var_names = ['CYP4F12_ENST00000548501', 'CALCB_ENST00000324229', 'MYOF_ENST00000371489', 'SLC27A3_ENST00000368659', 'TMEM161B-AS1_ENST00000669353']\n",
    "    assert list(anndata.var_names[:5]) == expected_var_names, \"The var names of the AnnData object are not as expected.\"\n",
    "    \n",
    "    # Assert that the obs names of the AnnData object are as expected\n",
    "    expected_obs_names = ['AGGAAATGTACAAGCG', 'GCCATTCGTCGGAACA', 'TCGACCTCAGTGTGCC', 'CGTAGTATCAGTGTGT', 'GCCAGGTGTCTAACTG']\n",
    "    assert list(anndata.obs_names[:5]) == expected_obs_names, \"The obs names of the AnnData object are not as expected.\"\n",
    "\n",
    "    # Assert that the additional vars of the AnnData object are as expected\n",
    "    expected_additional_vars = ['gene_id', 'transcript_id', 'nb_exons']\n",
    "    assert list(anndata.var.columns) == expected_additional_vars, \"The additional vars of the AnnData object are not as expected.\"\n",
    "\n",
    "test_isomatrix_to_anndata()"
   ]
  },
  {
   "cell_type": "code",
   "execution_count": 10,
   "metadata": {},
   "outputs": [
    {
     "ename": "AssertionError",
     "evalue": "/data/analysis/data_mcandrew/longreadtools/longreadtools/tests.py does not exist",
     "output_type": "error",
     "traceback": [
      "\u001b[0;31m---------------------------------------------------------------------------\u001b[0m",
      "\u001b[0;31mAssertionError\u001b[0m                            Traceback (most recent call last)",
      "Cell \u001b[0;32mIn[10], line 2\u001b[0m\n\u001b[1;32m      1\u001b[0m \u001b[38;5;66;03m#| hide\u001b[39;00m\n\u001b[0;32m----> 2\u001b[0m \u001b[38;5;28;01mimport\u001b[39;00m \u001b[38;5;21;01mnbdev\u001b[39;00m; nbdev\u001b[38;5;241m.\u001b[39mnbdev_export()\n",
      "File \u001b[0;32m~/.conda/envs/scLRanalyis/lib/python3.11/site-packages/fastcore/script.py:110\u001b[0m, in \u001b[0;36mcall_parse.<locals>._f\u001b[0;34m(*args, **kwargs)\u001b[0m\n\u001b[1;32m    107\u001b[0m \u001b[38;5;129m@wraps\u001b[39m(func)\n\u001b[1;32m    108\u001b[0m \u001b[38;5;28;01mdef\u001b[39;00m \u001b[38;5;21m_f\u001b[39m(\u001b[38;5;241m*\u001b[39margs, \u001b[38;5;241m*\u001b[39m\u001b[38;5;241m*\u001b[39mkwargs):\n\u001b[1;32m    109\u001b[0m     mod \u001b[38;5;241m=\u001b[39m inspect\u001b[38;5;241m.\u001b[39mgetmodule(inspect\u001b[38;5;241m.\u001b[39mcurrentframe()\u001b[38;5;241m.\u001b[39mf_back)\n\u001b[0;32m--> 110\u001b[0m     \u001b[38;5;28;01mif\u001b[39;00m \u001b[38;5;129;01mnot\u001b[39;00m mod: \u001b[38;5;28;01mreturn\u001b[39;00m func(\u001b[38;5;241m*\u001b[39margs, \u001b[38;5;241m*\u001b[39m\u001b[38;5;241m*\u001b[39mkwargs)\n\u001b[1;32m    111\u001b[0m     \u001b[38;5;28;01mif\u001b[39;00m \u001b[38;5;129;01mnot\u001b[39;00m SCRIPT_INFO\u001b[38;5;241m.\u001b[39mfunc \u001b[38;5;129;01mand\u001b[39;00m mod\u001b[38;5;241m.\u001b[39m\u001b[38;5;18m__name__\u001b[39m\u001b[38;5;241m==\u001b[39m\u001b[38;5;124m\"\u001b[39m\u001b[38;5;124m__main__\u001b[39m\u001b[38;5;124m\"\u001b[39m: SCRIPT_INFO\u001b[38;5;241m.\u001b[39mfunc \u001b[38;5;241m=\u001b[39m func\u001b[38;5;241m.\u001b[39m\u001b[38;5;18m__name__\u001b[39m\n\u001b[1;32m    112\u001b[0m     \u001b[38;5;28;01mif\u001b[39;00m \u001b[38;5;28mlen\u001b[39m(sys\u001b[38;5;241m.\u001b[39margv)\u001b[38;5;241m>\u001b[39m\u001b[38;5;241m1\u001b[39m \u001b[38;5;129;01mand\u001b[39;00m sys\u001b[38;5;241m.\u001b[39margv[\u001b[38;5;241m1\u001b[39m]\u001b[38;5;241m==\u001b[39m\u001b[38;5;124m'\u001b[39m\u001b[38;5;124m'\u001b[39m: sys\u001b[38;5;241m.\u001b[39margv\u001b[38;5;241m.\u001b[39mpop(\u001b[38;5;241m1\u001b[39m)\n",
      "File \u001b[0;32m~/.conda/envs/scLRanalyis/lib/python3.11/site-packages/nbdev/doclinks.py:142\u001b[0m, in \u001b[0;36mnbdev_export\u001b[0;34m(path, procs, **kwargs)\u001b[0m\n\u001b[1;32m    140\u001b[0m   procs \u001b[38;5;241m=\u001b[39m [\u001b[38;5;28mgetattr\u001b[39m(nbdev\u001b[38;5;241m.\u001b[39mexport, p) \u001b[38;5;28;01mfor\u001b[39;00m p \u001b[38;5;129;01min\u001b[39;00m L(procs)]\n\u001b[1;32m    141\u001b[0m files \u001b[38;5;241m=\u001b[39m nbglob(path\u001b[38;5;241m=\u001b[39mpath, as_path\u001b[38;5;241m=\u001b[39m\u001b[38;5;28;01mTrue\u001b[39;00m, \u001b[38;5;241m*\u001b[39m\u001b[38;5;241m*\u001b[39mkwargs)\u001b[38;5;241m.\u001b[39msorted(\u001b[38;5;124m'\u001b[39m\u001b[38;5;124mname\u001b[39m\u001b[38;5;124m'\u001b[39m)\n\u001b[0;32m--> 142\u001b[0m \u001b[38;5;28;01mfor\u001b[39;00m f \u001b[38;5;129;01min\u001b[39;00m files: nb_export(f, procs\u001b[38;5;241m=\u001b[39mprocs)\n\u001b[1;32m    143\u001b[0m add_init(get_config()\u001b[38;5;241m.\u001b[39mlib_path)\n\u001b[1;32m    144\u001b[0m _build_modidx()\n",
      "File \u001b[0;32m~/.conda/envs/scLRanalyis/lib/python3.11/site-packages/nbdev/export.py:77\u001b[0m, in \u001b[0;36mnb_export\u001b[0;34m(nbname, lib_path, procs, debug, mod_maker, name)\u001b[0m\n\u001b[1;32m     73\u001b[0m     warn(\u001b[38;5;124mf\u001b[39m\u001b[38;5;124m\"\u001b[39m\u001b[38;5;124mNotebook \u001b[39m\u001b[38;5;124m'\u001b[39m\u001b[38;5;132;01m{\u001b[39;00mnbname\u001b[38;5;132;01m}\u001b[39;00m\u001b[38;5;124m'\u001b[39m\u001b[38;5;124m uses `#|export` without `#|default_exp` cell.\u001b[39m\u001b[38;5;130;01m\\n\u001b[39;00m\u001b[38;5;124m\"\u001b[39m\n\u001b[1;32m     74\u001b[0m          \u001b[38;5;124m\"\u001b[39m\u001b[38;5;124mNote nbdev2 no longer supports nbdev1 syntax. Run `nbdev_migrate` to upgrade.\u001b[39m\u001b[38;5;130;01m\\n\u001b[39;00m\u001b[38;5;124m\"\u001b[39m\n\u001b[1;32m     75\u001b[0m          \u001b[38;5;124m\"\u001b[39m\u001b[38;5;124mSee https://nbdev.fast.ai/getting_started.html for more information.\u001b[39m\u001b[38;5;124m\"\u001b[39m)\n\u001b[1;32m     76\u001b[0m     \u001b[38;5;28;01mreturn\u001b[39;00m\n\u001b[0;32m---> 77\u001b[0m mm \u001b[38;5;241m=\u001b[39m mod_maker(dest\u001b[38;5;241m=\u001b[39mlib_path, name\u001b[38;5;241m=\u001b[39mnm, nb_path\u001b[38;5;241m=\u001b[39mnbname, is_new\u001b[38;5;241m=\u001b[39m\u001b[38;5;28mbool\u001b[39m(name) \u001b[38;5;129;01mor\u001b[39;00m mod\u001b[38;5;241m==\u001b[39m\u001b[38;5;124m'\u001b[39m\u001b[38;5;124m#\u001b[39m\u001b[38;5;124m'\u001b[39m)\n\u001b[1;32m     78\u001b[0m mm\u001b[38;5;241m.\u001b[39mmake(cells, all_cells, lib_path\u001b[38;5;241m=\u001b[39mlib_path)\n",
      "File \u001b[0;32m~/.conda/envs/scLRanalyis/lib/python3.11/site-packages/nbdev/maker.py:69\u001b[0m, in \u001b[0;36mModuleMaker.__init__\u001b[0;34m(self, dest, name, nb_path, is_new, parse)\u001b[0m\n\u001b[1;32m     67\u001b[0m \u001b[38;5;28mself\u001b[39m\u001b[38;5;241m.\u001b[39mfname \u001b[38;5;241m=\u001b[39m dest\u001b[38;5;241m/\u001b[39m(name\u001b[38;5;241m.\u001b[39mreplace(\u001b[38;5;124m'\u001b[39m\u001b[38;5;124m.\u001b[39m\u001b[38;5;124m'\u001b[39m,\u001b[38;5;124m'\u001b[39m\u001b[38;5;124m/\u001b[39m\u001b[38;5;124m'\u001b[39m) \u001b[38;5;241m+\u001b[39m \u001b[38;5;124m\"\u001b[39m\u001b[38;5;124m.py\u001b[39m\u001b[38;5;124m\"\u001b[39m)\n\u001b[1;32m     68\u001b[0m \u001b[38;5;28;01mif\u001b[39;00m is_new: dest\u001b[38;5;241m.\u001b[39mmkdir(parents\u001b[38;5;241m=\u001b[39m\u001b[38;5;28;01mTrue\u001b[39;00m, exist_ok\u001b[38;5;241m=\u001b[39m\u001b[38;5;28;01mTrue\u001b[39;00m)\n\u001b[0;32m---> 69\u001b[0m \u001b[38;5;28;01melse\u001b[39;00m: \u001b[38;5;28;01massert\u001b[39;00m \u001b[38;5;28mself\u001b[39m\u001b[38;5;241m.\u001b[39mfname\u001b[38;5;241m.\u001b[39mexists(), \u001b[38;5;124mf\u001b[39m\u001b[38;5;124m\"\u001b[39m\u001b[38;5;132;01m{\u001b[39;00m\u001b[38;5;28mself\u001b[39m\u001b[38;5;241m.\u001b[39mfname\u001b[38;5;132;01m}\u001b[39;00m\u001b[38;5;124m does not exist\u001b[39m\u001b[38;5;124m\"\u001b[39m\n\u001b[1;32m     70\u001b[0m \u001b[38;5;28mself\u001b[39m\u001b[38;5;241m.\u001b[39mdest2nb \u001b[38;5;241m=\u001b[39m nb_path\u001b[38;5;241m.\u001b[39mrelpath(\u001b[38;5;28mself\u001b[39m\u001b[38;5;241m.\u001b[39mfname\u001b[38;5;241m.\u001b[39mparent)\u001b[38;5;241m.\u001b[39mas_posix()\n\u001b[1;32m     71\u001b[0m \u001b[38;5;28mself\u001b[39m\u001b[38;5;241m.\u001b[39mhdr \u001b[38;5;241m=\u001b[39m \u001b[38;5;124mf\u001b[39m\u001b[38;5;124m\"\u001b[39m\u001b[38;5;124m# %% \u001b[39m\u001b[38;5;132;01m{\u001b[39;00m\u001b[38;5;28mself\u001b[39m\u001b[38;5;241m.\u001b[39mdest2nb\u001b[38;5;132;01m}\u001b[39;00m\u001b[38;5;124m\"\u001b[39m\n",
      "\u001b[0;31mAssertionError\u001b[0m: /data/analysis/data_mcandrew/longreadtools/longreadtools/tests.py does not exist"
     ]
    }
   ],
   "source": [
    "#| hide\n",
    "import nbdev; nbdev.nbdev_export()"
   ]
  }
 ],
 "metadata": {
  "kernelspec": {
   "display_name": "python3",
   "language": "python",
   "name": "python3"
  },
  "language_info": {
   "codemirror_mode": {
    "name": "ipython",
    "version": 3
   },
   "file_extension": ".py",
   "mimetype": "text/x-python",
   "name": "python",
   "nbconvert_exporter": "python",
   "pygments_lexer": "ipython3",
   "version": "3.11.4"
  }
 },
 "nbformat": 4,
 "nbformat_minor": 4
}
