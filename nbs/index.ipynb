{
 "cells": [
  {
   "cell_type": "code",
   "execution_count": 1,
   "metadata": {},
   "outputs": [],
   "source": [
    "#| hide\n",
    "\n"
   ]
  },
  {
   "cell_type": "markdown",
   "metadata": {},
   "source": [
    "![LongReadTools](https://raw.githubusercontent.com/cobioda/longreadtools/master/longreadtools/white_bg_log_hd.png)\n"
   ]
  },
  {
   "cell_type": "markdown",
   "metadata": {},
   "source": [
    "## Install"
   ]
  },
  {
   "cell_type": "markdown",
   "metadata": {},
   "source": [
    "```sh\n",
    "pip install git+https://github.com/cobioda/longreadtools.git\n",
    "\n",
    "```"
   ]
  },
  {
   "cell_type": "markdown",
   "metadata": {},
   "source": [
    "## How to use"
   ]
  },
  {
   "cell_type": "markdown",
   "metadata": {},
   "source": [
    "Here we will use the `isomatrix_tools` module to convert our isomatrix\n",
    "txt files in bulk into `anndata` objects using the\n",
    "`multiple_isomatrix_conversion` function. Then, we will utilize our specialized\n",
    "`concatenate_anndata` function to generate a concatenated `anndata` for downstream analysis.\n"
   ]
  },
  {
   "cell_type": "markdown",
   "metadata": {},
   "source": [
    "In this section, we will retrieve a list of isomatrix files for conversion into Anndata objects.\n",
    "The `isomatrix_tools` module within the LongReadTools library provides a function `multiple_isomatrix_conversion`,\n",
    "which allows for batch conversion of isomatrix text files into Anndata objects, a binary format for representing\n",
    "large datasets in the context of single-cell genomics. This is particularly useful for downstream analysis and\n",
    "integration with other single-cell analysis tools such as Scanpy. The conversion process is essential for enabling\n",
    "efficient data handling and manipulation, as Anndata objects are optimized for high-performance computing tasks.\n"
   ]
  },
  {
   "cell_type": "code",
   "execution_count": 2,
   "metadata": {},
   "outputs": [
    {
     "name": "stdout",
     "output_type": "stream",
     "text": [
      "['/data/analysis/data_mcandrew/000-sclr-discovair/D498_BIOP_INT', '/data/analysis/data_mcandrew/000-sclr-discovair/D492_BIOP_NAS', '/data/analysis/data_mcandrew/000-sclr-discovair/D494_BIOP_INT', '/data/analysis/data_mcandrew/000-sclr-discovair/D500_BIOP_INT', '/data/analysis/data_mcandrew/000-sclr-discovair/D494_BIOP_NAS', '/data/analysis/data_mcandrew/000-sclr-discovair/D496_BIOP_INT', '/data/analysis/data_mcandrew/000-sclr-discovair/D499_BIOP_INT', '/data/analysis/data_mcandrew/000-sclr-discovair/D493_BIOP_INT', '/data/analysis/data_mcandrew/000-sclr-discovair/D493_BIOP_NAS', '/data/analysis/data_mcandrew/000-sclr-discovair/D534_BIOP_INT', '/data/analysis/data_mcandrew/000-sclr-discovair/D490_BIOP_INT', '/data/analysis/data_mcandrew/000-sclr-discovair/D500_BIOP_NAS', '/data/analysis/data_mcandrew/000-sclr-discovair/D495_BIOP_INT', '/data/analysis/data_mcandrew/000-sclr-discovair/D492_BIOP_INT']\n"
     ]
    }
   ],
   "source": [
    "# Importing required libraries\n",
    "import os\n",
    "import re\n",
    "\n",
    "# Defining the directory path\n",
    "directory = '/data/analysis/data_mcandrew/000-sclr-discovair/'\n",
    "\n",
    "# Defining the regular expression pattern to match the required files\n",
    "pattern = re.compile('.*(_BIOP_INT|BIOP_NAS)$')\n",
    "\n",
    "# Getting a list of all files in the directory\n",
    "all_files = os.listdir(directory)\n",
    "\n",
    "# Filtering the list to include only files that match the pattern\n",
    "matching_files = [os.path.join(directory, f) for f in all_files if pattern.match(f)]\n",
    "\n",
    "# Printing the list of matching files\n",
    "print(matching_files)\n",
    "\n",
    "# Assigning the list of matching files to the variable 'individual_runs'\n",
    "individual_runs = matching_files\n",
    "\n",
    "# Adding '_isomatrix.txt' to each file name in the 'individual_runs' list\n",
    "individual_runs = [f'{run}_isomatrix.txt' for run in individual_runs]\n",
    "\n",
    "# Creating a list of paths for each isomatrix file in the 'matching_files' list\n",
    "isomatrix_paths = [os.path.join(run, f'{os.path.basename(run)}_isomatrix.txt') for run in matching_files]"
   ]
  },
  {
   "cell_type": "markdown",
   "metadata": {},
   "source": [
    "In this section, we will leverage the `isomatool` module from the LongReadTools library to convert the isomatrix files, which we have previously identified and listed in `isomatrix_paths`, into Anndata objects. Anndata objects are a binary format designed for large-scale single-cell genomics data, which facilitates efficient data handling and manipulation, making them ideal for high-throughput computational analysis. The `multiple_isomatrix_conversion` function from `isomatool` will be used to perform this batch conversion, setting the stage for subsequent data integration and analysis steps, such as normalization, dimensionality reduction, and cell clustering using tools like Scanpy.\n"
   ]
  },
  {
   "cell_type": "code",
   "execution_count": 3,
   "metadata": {},
   "outputs": [],
   "source": [
    "from longreadtools.isomatool import *\n",
    "import scanpy as sc"
   ]
  },
  {
   "cell_type": "code",
   "execution_count": 4,
   "metadata": {},
   "outputs": [
    {
     "name": "stdout",
     "output_type": "stream",
     "text": [
      "File /data/analysis/data_mcandrew/000-sclr-discovair/D498_BIOP_INT/D498_BIOP_INT_isomatrix.h5ad was successfully written to disk.\n",
      "File /data/analysis/data_mcandrew/000-sclr-discovair/D500_BIOP_NAS/D500_BIOP_NAS_isomatrix.h5ad was successfully written to disk.\n",
      "File /data/analysis/data_mcandrew/000-sclr-discovair/D500_BIOP_INT/D500_BIOP_INT_isomatrix.h5ad was successfully written to disk.\n",
      "File /data/analysis/data_mcandrew/000-sclr-discovair/D494_BIOP_NAS/D494_BIOP_NAS_isomatrix.h5ad was successfully written to disk.\n",
      "File /data/analysis/data_mcandrew/000-sclr-discovair/D493_BIOP_NAS/D493_BIOP_NAS_isomatrix.h5ad was successfully written to disk.\n",
      "File /data/analysis/data_mcandrew/000-sclr-discovair/D493_BIOP_INT/D493_BIOP_INT_isomatrix.h5ad was successfully written to disk.\n",
      "File /data/analysis/data_mcandrew/000-sclr-discovair/D499_BIOP_INT/D499_BIOP_INT_isomatrix.h5ad was successfully written to disk.\n",
      "File /data/analysis/data_mcandrew/000-sclr-discovair/D494_BIOP_INT/D494_BIOP_INT_isomatrix.h5ad was successfully written to disk.\n",
      "File /data/analysis/data_mcandrew/000-sclr-discovair/D495_BIOP_INT/D495_BIOP_INT_isomatrix.h5ad was successfully written to disk.\n",
      "File /data/analysis/data_mcandrew/000-sclr-discovair/D490_BIOP_INT/D490_BIOP_INT_isomatrix.h5ad was successfully written to disk.\n",
      "File /data/analysis/data_mcandrew/000-sclr-discovair/D492_BIOP_INT/D492_BIOP_INT_isomatrix.h5ad was successfully written to disk.\n",
      "File /data/analysis/data_mcandrew/000-sclr-discovair/D496_BIOP_INT/D496_BIOP_INT_isomatrix.h5ad was successfully written to disk.\n",
      "File /data/analysis/data_mcandrew/000-sclr-discovair/D534_BIOP_INT/D534_BIOP_INT_isomatrix.h5ad was successfully written to disk.\n",
      "File /data/analysis/data_mcandrew/000-sclr-discovair/D492_BIOP_NAS/D492_BIOP_NAS_isomatrix.h5ad was successfully written to disk.\n"
     ]
    }
   ],
   "source": [
    "converted_isomatrix_paths = multiple_isomatrix_conversion(isomatrix_paths, verbose=True, return_paths = True)"
   ]
  },
  {
   "cell_type": "code",
   "execution_count": 5,
   "metadata": {},
   "outputs": [
    {
     "name": "stdout",
     "output_type": "stream",
     "text": [
      "Reading .h5ad files...\n",
      "Applying feature set standardization...\n"
     ]
    },
    {
     "name": "stderr",
     "output_type": "stream",
     "text": [
      "Standardizing anndata features via union: 100%|██████████| 14/14 [01:03<00:00,  4.51s/it]\n"
     ]
    },
    {
     "name": "stdout",
     "output_type": "stream",
     "text": [
      "Concatenating AnnData objects and adding batch keys with scanpy...\n"
     ]
    },
    {
     "name": "stderr",
     "output_type": "stream",
     "text": [
      "/home/mcandrew/.conda/envs/scLRanalyis/lib/python3.11/site-packages/anndata/_core/anndata.py:1897: UserWarning: Observation names are not unique. To make them unique, call `.obs_names_make_unique`.\n",
      "  utils.warn_names_duplicates(\"obs\")\n",
      "/home/mcandrew/.conda/envs/scLRanalyis/lib/python3.11/site-packages/pandas/core/arrays/categorical.py:568: RuntimeWarning: invalid value encountered in cast\n",
      "  np.array(self.categories._na_value).astype(dtype)\n"
     ]
    },
    {
     "name": "stdout",
     "output_type": "stream",
     "text": [
      "Setting .var attribute...\n",
      "Final Check...\n"
     ]
    },
    {
     "name": "stderr",
     "output_type": "stream",
     "text": [
      "/home/mcandrew/.conda/envs/scLRanalyis/lib/python3.11/site-packages/longreadtools/isomatool.py:342: FutureWarning: is_categorical_dtype is deprecated and will be removed in a future version. Use isinstance(dtype, CategoricalDtype) instead\n",
      "  if pd.api.types.is_categorical_dtype(df[col]):\n",
      "/home/mcandrew/.conda/envs/scLRanalyis/lib/python3.11/site-packages/longreadtools/isomatool.py:342: FutureWarning: is_categorical_dtype is deprecated and will be removed in a future version. Use isinstance(dtype, CategoricalDtype) instead\n",
      "  if pd.api.types.is_categorical_dtype(df[col]):\n",
      "/home/mcandrew/.conda/envs/scLRanalyis/lib/python3.11/site-packages/longreadtools/isomatool.py:342: FutureWarning: is_categorical_dtype is deprecated and will be removed in a future version. Use isinstance(dtype, CategoricalDtype) instead\n",
      "  if pd.api.types.is_categorical_dtype(df[col]):\n",
      "/home/mcandrew/.conda/envs/scLRanalyis/lib/python3.11/site-packages/longreadtools/isomatool.py:342: FutureWarning: is_categorical_dtype is deprecated and will be removed in a future version. Use isinstance(dtype, CategoricalDtype) instead\n",
      "  if pd.api.types.is_categorical_dtype(df[col]):\n"
     ]
    },
    {
     "name": "stdout",
     "output_type": "stream",
     "text": [
      "Concatenation complete.\n"
     ]
    }
   ],
   "source": [
    "andata_concat = concatenate_anndata(converted_isomatrix_paths, verbose = True)"
   ]
  },
  {
   "cell_type": "markdown",
   "metadata": {},
   "source": [
    "Now that we have concatenated the Anndata objects, let's examine the resulting object to ensure it's structured correctly and ready for downstream analysis. We will display the shape of the matrix, the metadata associated with observations (cells), and the variables (genes) to get an overview of the dataset. Additionally, we will check for any potential issues such as non-unique observation names, which we've been warned about in the output from cell 20.\n"
   ]
  },
  {
   "cell_type": "code",
   "execution_count": 6,
   "metadata": {},
   "outputs": [
    {
     "name": "stdout",
     "output_type": "stream",
     "text": [
      "The Anndata object has 122872 observations (cells) and 89177 variables (genes).\n",
      "Observation metadata (first 5 entries):\n",
      "                          batch\n",
      "AGGAAATGTACAAGCG  D498_BIOP_INT\n",
      "GCCATTCGTCGGAACA  D498_BIOP_INT\n",
      "TCGACCTCAGTGTGCC  D498_BIOP_INT\n",
      "CGTAGTATCAGTGTGT  D498_BIOP_INT\n",
      "GCCAGGTGTCTAACTG  D498_BIOP_INT\n",
      "Variable metadata (first 5 entries):\n",
      "                       geneId     transcriptId nbExons\n",
      "transcriptId                                          \n",
      "ENST00000548501       CYP4F12  ENST00000548501       4\n",
      "ENST00000324229         CALCB  ENST00000324229       5\n",
      "ENST00000371489          MYOF  ENST00000371489      15\n",
      "ENST00000368659       SLC27A3  ENST00000368659       2\n",
      "ENST00000669353  TMEM161B-AS1  ENST00000669353       4\n",
      "Observation names were not unique; they have been made unique.\n"
     ]
    }
   ],
   "source": [
    "\n",
    "# Display the shape of the concatenated Anndata object\n",
    "print(f\"The Anndata object has {andata_concat.n_obs} observations (cells) and {andata_concat.n_vars} variables (genes).\")\n",
    "\n",
    "# Display the first few entries of the observation metadata to inspect batch information and other annotations\n",
    "print(\"Observation metadata (first 5 entries):\")\n",
    "print(andata_concat.obs.head())\n",
    "\n",
    "# Display the first few entries of the variable metadata to inspect gene and transcript information\n",
    "print(\"Variable metadata (first 5 entries):\")\n",
    "print(andata_concat.var.head())\n",
    "\n",
    "# Check for unique observation names and make them unique if necessary\n",
    "if not andata_concat.obs_names.is_unique:\n",
    "    andata_concat.obs_names_make_unique()\n",
    "    print(\"Observation names were not unique; they have been made unique.\")"
   ]
  },
  {
   "cell_type": "code",
   "execution_count": 7,
   "metadata": {},
   "outputs": [
    {
     "data": {
      "text/plain": [
       "array([[0., 0., 0., ..., 0., 0., 0.],\n",
       "       [1., 0., 0., ..., 0., 0., 0.],\n",
       "       [1., 1., 2., ..., 0., 0., 0.],\n",
       "       ...,\n",
       "       [0., 0., 0., ..., 0., 0., 0.],\n",
       "       [0., 0., 0., ..., 0., 0., 0.],\n",
       "       [0., 0., 0., ..., 0., 0., 0.]], dtype=float32)"
      ]
     },
     "execution_count": 7,
     "metadata": {},
     "output_type": "execute_result"
    }
   ],
   "source": [
    "andata_concat.X"
   ]
  },
  {
   "cell_type": "code",
   "execution_count": 8,
   "metadata": {},
   "outputs": [
    {
     "data": {
      "text/html": [
       "<div>\n",
       "<style scoped>\n",
       "    .dataframe tbody tr th:only-of-type {\n",
       "        vertical-align: middle;\n",
       "    }\n",
       "\n",
       "    .dataframe tbody tr th {\n",
       "        vertical-align: top;\n",
       "    }\n",
       "\n",
       "    .dataframe thead th {\n",
       "        text-align: right;\n",
       "    }\n",
       "</style>\n",
       "<table border=\"1\" class=\"dataframe\">\n",
       "  <thead>\n",
       "    <tr style=\"text-align: right;\">\n",
       "      <th></th>\n",
       "      <th>geneId</th>\n",
       "      <th>transcriptId</th>\n",
       "      <th>nbExons</th>\n",
       "    </tr>\n",
       "    <tr>\n",
       "      <th>transcriptId</th>\n",
       "      <th></th>\n",
       "      <th></th>\n",
       "      <th></th>\n",
       "    </tr>\n",
       "  </thead>\n",
       "  <tbody>\n",
       "    <tr>\n",
       "      <th>ENST00000548501</th>\n",
       "      <td>CYP4F12</td>\n",
       "      <td>ENST00000548501</td>\n",
       "      <td>4</td>\n",
       "    </tr>\n",
       "    <tr>\n",
       "      <th>ENST00000324229</th>\n",
       "      <td>CALCB</td>\n",
       "      <td>ENST00000324229</td>\n",
       "      <td>5</td>\n",
       "    </tr>\n",
       "    <tr>\n",
       "      <th>ENST00000371489</th>\n",
       "      <td>MYOF</td>\n",
       "      <td>ENST00000371489</td>\n",
       "      <td>15</td>\n",
       "    </tr>\n",
       "    <tr>\n",
       "      <th>ENST00000368659</th>\n",
       "      <td>SLC27A3</td>\n",
       "      <td>ENST00000368659</td>\n",
       "      <td>2</td>\n",
       "    </tr>\n",
       "    <tr>\n",
       "      <th>ENST00000669353</th>\n",
       "      <td>TMEM161B-AS1</td>\n",
       "      <td>ENST00000669353</td>\n",
       "      <td>4</td>\n",
       "    </tr>\n",
       "    <tr>\n",
       "      <th>...</th>\n",
       "      <td>...</td>\n",
       "      <td>...</td>\n",
       "      <td>...</td>\n",
       "    </tr>\n",
       "    <tr>\n",
       "      <th>ENST00000535337</th>\n",
       "      <td>AC156455.1</td>\n",
       "      <td>ENST00000535337</td>\n",
       "      <td>2</td>\n",
       "    </tr>\n",
       "    <tr>\n",
       "      <th>ENST00000393825</th>\n",
       "      <td>NDUFA4L2</td>\n",
       "      <td>ENST00000393825</td>\n",
       "      <td>5</td>\n",
       "    </tr>\n",
       "    <tr>\n",
       "      <th>ENST00000508491</th>\n",
       "      <td>UTP15</td>\n",
       "      <td>ENST00000508491</td>\n",
       "      <td>13</td>\n",
       "    </tr>\n",
       "    <tr>\n",
       "      <th>ENST00000394566</th>\n",
       "      <td>SLFN11</td>\n",
       "      <td>ENST00000394566</td>\n",
       "      <td>7</td>\n",
       "    </tr>\n",
       "    <tr>\n",
       "      <th>ENST00000642078</th>\n",
       "      <td>MFSD8</td>\n",
       "      <td>ENST00000642078</td>\n",
       "      <td>10</td>\n",
       "    </tr>\n",
       "  </tbody>\n",
       "</table>\n",
       "<p>89177 rows × 3 columns</p>\n",
       "</div>"
      ],
      "text/plain": [
       "                       geneId     transcriptId nbExons\n",
       "transcriptId                                          \n",
       "ENST00000548501       CYP4F12  ENST00000548501       4\n",
       "ENST00000324229         CALCB  ENST00000324229       5\n",
       "ENST00000371489          MYOF  ENST00000371489      15\n",
       "ENST00000368659       SLC27A3  ENST00000368659       2\n",
       "ENST00000669353  TMEM161B-AS1  ENST00000669353       4\n",
       "...                       ...              ...     ...\n",
       "ENST00000535337    AC156455.1  ENST00000535337       2\n",
       "ENST00000393825      NDUFA4L2  ENST00000393825       5\n",
       "ENST00000508491         UTP15  ENST00000508491      13\n",
       "ENST00000394566        SLFN11  ENST00000394566       7\n",
       "ENST00000642078         MFSD8  ENST00000642078      10\n",
       "\n",
       "[89177 rows x 3 columns]"
      ]
     },
     "execution_count": 8,
     "metadata": {},
     "output_type": "execute_result"
    }
   ],
   "source": [
    "andata_concat.var"
   ]
  },
  {
   "cell_type": "code",
   "execution_count": 9,
   "metadata": {},
   "outputs": [
    {
     "data": {
      "text/html": [
       "<div>\n",
       "<style scoped>\n",
       "    .dataframe tbody tr th:only-of-type {\n",
       "        vertical-align: middle;\n",
       "    }\n",
       "\n",
       "    .dataframe tbody tr th {\n",
       "        vertical-align: top;\n",
       "    }\n",
       "\n",
       "    .dataframe thead th {\n",
       "        text-align: right;\n",
       "    }\n",
       "</style>\n",
       "<table border=\"1\" class=\"dataframe\">\n",
       "  <thead>\n",
       "    <tr style=\"text-align: right;\">\n",
       "      <th></th>\n",
       "      <th>batch</th>\n",
       "    </tr>\n",
       "  </thead>\n",
       "  <tbody>\n",
       "    <tr>\n",
       "      <th>AGGAAATGTACAAGCG</th>\n",
       "      <td>D498_BIOP_INT</td>\n",
       "    </tr>\n",
       "    <tr>\n",
       "      <th>GCCATTCGTCGGAACA</th>\n",
       "      <td>D498_BIOP_INT</td>\n",
       "    </tr>\n",
       "    <tr>\n",
       "      <th>TCGACCTCAGTGTGCC</th>\n",
       "      <td>D498_BIOP_INT</td>\n",
       "    </tr>\n",
       "    <tr>\n",
       "      <th>CGTAGTATCAGTGTGT</th>\n",
       "      <td>D498_BIOP_INT</td>\n",
       "    </tr>\n",
       "    <tr>\n",
       "      <th>GCCAGGTGTCTAACTG</th>\n",
       "      <td>D498_BIOP_INT</td>\n",
       "    </tr>\n",
       "    <tr>\n",
       "      <th>...</th>\n",
       "      <td>...</td>\n",
       "    </tr>\n",
       "    <tr>\n",
       "      <th>AGTGACTTCTAAGCCA</th>\n",
       "      <td>D492_BIOP_INT</td>\n",
       "    </tr>\n",
       "    <tr>\n",
       "      <th>CATTGTTCATCACCAA</th>\n",
       "      <td>D492_BIOP_INT</td>\n",
       "    </tr>\n",
       "    <tr>\n",
       "      <th>GATGATCCACACAGAG</th>\n",
       "      <td>D492_BIOP_INT</td>\n",
       "    </tr>\n",
       "    <tr>\n",
       "      <th>TCGAACATCAGTGCGC</th>\n",
       "      <td>D492_BIOP_INT</td>\n",
       "    </tr>\n",
       "    <tr>\n",
       "      <th>GTTGCGGCACCTGCTT</th>\n",
       "      <td>D492_BIOP_INT</td>\n",
       "    </tr>\n",
       "  </tbody>\n",
       "</table>\n",
       "<p>122872 rows × 1 columns</p>\n",
       "</div>"
      ],
      "text/plain": [
       "                          batch\n",
       "AGGAAATGTACAAGCG  D498_BIOP_INT\n",
       "GCCATTCGTCGGAACA  D498_BIOP_INT\n",
       "TCGACCTCAGTGTGCC  D498_BIOP_INT\n",
       "CGTAGTATCAGTGTGT  D498_BIOP_INT\n",
       "GCCAGGTGTCTAACTG  D498_BIOP_INT\n",
       "...                         ...\n",
       "AGTGACTTCTAAGCCA  D492_BIOP_INT\n",
       "CATTGTTCATCACCAA  D492_BIOP_INT\n",
       "GATGATCCACACAGAG  D492_BIOP_INT\n",
       "TCGAACATCAGTGCGC  D492_BIOP_INT\n",
       "GTTGCGGCACCTGCTT  D492_BIOP_INT\n",
       "\n",
       "[122872 rows x 1 columns]"
      ]
     },
     "execution_count": 9,
     "metadata": {},
     "output_type": "execute_result"
    }
   ],
   "source": [
    "andata_concat.obs"
   ]
  },
  {
   "cell_type": "markdown",
   "metadata": {},
   "source": [
    "Utilizing Scanpy, this function call will serialize the `andata_concat` object to an HDF5 file, a format widely adopted for storing extensive scientific data. The chosen filename 'discovair_long_read_transcript_matrix.h5ad' clearly reflects the file's contents, representing the transcript matrix obtained from long-read sequencing data. The HDF5 format is particularly advantageous for Anndata objects as it facilitates the efficient storage and retrieval of large, intricate datasets, which is quintessential for managing the high-dimensional data produced by single-cell sequencing technologies.\n"
   ]
  },
  {
   "cell_type": "code",
   "execution_count": 10,
   "metadata": {},
   "outputs": [],
   "source": [
    "andata_concat.write_h5ad('discovair_long_read_transcript_matrix.h5ad')"
   ]
  },
  {
   "cell_type": "markdown",
   "metadata": {},
   "source": [
    "\n",
    "In this step, we are utilizing the `sc.read_h5ad` function to load the Anndata objects that contain the transcriptomic data from both long-read and short-read sequencing technologies. The long-read data, which typically provides full-length transcripts allowing for the identification of isoform diversity, is stored in \"discovair_long_read_transcript_matrix.h5ad\". The short-read data, known for its higher throughput and quantification accuracy at the gene level, is stored in \"/data/analysis/data_mcandrew/000-sclr-discovair/integrated_V10.h5ad\". These datasets will be used for subsequent comparative analysis and integration, leveraging the capabilities of the longreadtools library to handle and process long-read sequencing data efficiently.\n"
   ]
  },
  {
   "cell_type": "code",
   "execution_count": 11,
   "metadata": {},
   "outputs": [],
   "source": [
    "isoform_anndata_from_long_reads = sc.read_h5ad(\"discovair_long_read_transcript_matrix.h5ad\")\n",
    "gene_anndata_from_short_reads = sc.read_h5ad(\"/data/analysis/data_mcandrew/000-sclr-discovair/integrated_V10.h5ad\")"
   ]
  },
  {
   "cell_type": "markdown",
   "metadata": {},
   "source": [
    "lets take a look at both"
   ]
  },
  {
   "cell_type": "code",
   "execution_count": 12,
   "metadata": {},
   "outputs": [
    {
     "data": {
      "text/plain": [
       "AnnData object with n_obs × n_vars = 122872 × 89177\n",
       "    obs: 'batch'\n",
       "    var: 'geneId', 'transcriptId', 'nbExons'"
      ]
     },
     "execution_count": 12,
     "metadata": {},
     "output_type": "execute_result"
    }
   ],
   "source": [
    "isoform_anndata_from_long_reads"
   ]
  },
  {
   "cell_type": "code",
   "execution_count": 13,
   "metadata": {},
   "outputs": [
    {
     "data": {
      "text/plain": [
       "AnnData object with n_obs × n_vars = 414609 × 36602\n",
       "    obs: 'manip', 'donor', 'method', 'position', 'n_genes_by_counts', 'total_counts', 'total_counts_mt', 'pct_counts_mt', 'total_counts_ribo', 'pct_counts_ribo', 'louvain', 'n_genes', 'nCount_SCT', 'nFeature_SCT', 'batch', 'age', 'gender', 'phenotype', 'respifinder', 'TRACvsNAS', 'sixty_plus', 'smoker', 'smoking_years', 'leiden', 'leiden_Endothelial', 'leiden_Stromal', 'leiden_Immune', 'leiden_Epithelial', 'log1p_n_genes_by_counts', 'log1p_total_counts', 'pct_counts_in_top_50_genes', 'pct_counts_in_top_100_genes', 'pct_counts_in_top_200_genes', 'pct_counts_in_top_500_genes', 'celltype_lv2_V4', 'celltype_lv0_V4', 'celltype_lv1_V4', 'celltype_lv2_V5', 'celltype_lv0_V5', 'celltype_lv1_V5', 'leiden_scANVI', 'disease_score', 'smoker_phenotype', 'leiden_scANVI_hvg_10000', 'leiden_scANVI_nl_50', 'leiden_scANVI_hvg_10000_nl_50', 'celltype_lv3_V5'\n",
       "    var: 'n_cells_by_counts', 'mean_counts', 'log1p_mean_counts', 'pct_dropout_by_counts', 'total_counts', 'log1p_total_counts', 'mt', 'ribo'\n",
       "    uns: 'Adventitial Fibroblast_colors', 'DE_ct_lv2', 'DE_ct_lv3', 'celltype_lv0_V4_colors', 'celltype_lv0_V5_colors', 'celltype_lv1_V4_colors', 'celltype_lv1_V5_colors', 'celltype_lv2_V4_colors', 'celltype_lv2_V5_colors', 'celltype_lv3_V5_colors', 'donor_colors', 'leiden', 'neighbors', 'neighbors_scanvi', 'pca', 'phenotype_colors', 'position_colors', 'rank_genes_groups_leiden', 'umap'\n",
       "    obsm: 'X_pca', 'X_scANVI', 'X_scANVI_hvg_10000', 'X_scANVI_hvg_10000_nl_50', 'X_scANVI_nl_50', 'X_umap', 'dorothea_mlm_estimate', 'dorothea_mlm_pvals', 'mlm_estimate', 'mlm_pvals'\n",
       "    varm: 'PCs', 'gini_celltype', 'n_cells_celltype_lv2_V3'\n",
       "    obsp: 'connectivities', 'distances', 'neighbors_scanvi_connectivities', 'neighbors_scanvi_distances'"
      ]
     },
     "execution_count": 13,
     "metadata": {},
     "output_type": "execute_result"
    }
   ],
   "source": [
    "gene_anndata_from_short_reads"
   ]
  },
  {
   "cell_type": "code",
   "execution_count": 14,
   "metadata": {},
   "outputs": [
    {
     "data": {
      "text/html": [
       "<div>\n",
       "<style scoped>\n",
       "    .dataframe tbody tr th:only-of-type {\n",
       "        vertical-align: middle;\n",
       "    }\n",
       "\n",
       "    .dataframe tbody tr th {\n",
       "        vertical-align: top;\n",
       "    }\n",
       "\n",
       "    .dataframe thead th {\n",
       "        text-align: right;\n",
       "    }\n",
       "</style>\n",
       "<table border=\"1\" class=\"dataframe\">\n",
       "  <thead>\n",
       "    <tr style=\"text-align: right;\">\n",
       "      <th></th>\n",
       "      <th>manip</th>\n",
       "      <th>donor</th>\n",
       "      <th>method</th>\n",
       "      <th>position</th>\n",
       "      <th>n_genes_by_counts</th>\n",
       "      <th>total_counts</th>\n",
       "      <th>total_counts_mt</th>\n",
       "      <th>pct_counts_mt</th>\n",
       "      <th>total_counts_ribo</th>\n",
       "      <th>pct_counts_ribo</th>\n",
       "      <th>...</th>\n",
       "      <th>celltype_lv2_V5</th>\n",
       "      <th>celltype_lv0_V5</th>\n",
       "      <th>celltype_lv1_V5</th>\n",
       "      <th>leiden_scANVI</th>\n",
       "      <th>disease_score</th>\n",
       "      <th>smoker_phenotype</th>\n",
       "      <th>leiden_scANVI_hvg_10000</th>\n",
       "      <th>leiden_scANVI_nl_50</th>\n",
       "      <th>leiden_scANVI_hvg_10000_nl_50</th>\n",
       "      <th>celltype_lv3_V5</th>\n",
       "    </tr>\n",
       "  </thead>\n",
       "  <tbody>\n",
       "    <tr>\n",
       "      <th>D460_BIOP_PRO1GGCTTGGAGCGCCTCA-1</th>\n",
       "      <td>D460_BIOP_PRO1</td>\n",
       "      <td>D460</td>\n",
       "      <td>BIOP</td>\n",
       "      <td>PRO</td>\n",
       "      <td>2150</td>\n",
       "      <td>5919.0</td>\n",
       "      <td>283.0</td>\n",
       "      <td>4.782021</td>\n",
       "      <td>1510.0</td>\n",
       "      <td>25.515377</td>\n",
       "      <td>...</td>\n",
       "      <td>Veinous</td>\n",
       "      <td>Endothelial</td>\n",
       "      <td>Endothelial</td>\n",
       "      <td>11</td>\n",
       "      <td>GAP Stage 1</td>\n",
       "      <td>non-smoker_IPF</td>\n",
       "      <td>9</td>\n",
       "      <td>9</td>\n",
       "      <td>8</td>\n",
       "      <td>Veinous</td>\n",
       "    </tr>\n",
       "    <tr>\n",
       "      <th>D463_BIOP_NAS1TCACTCGCATTGGGAG-1</th>\n",
       "      <td>D463_BIOP_NAS1</td>\n",
       "      <td>D463</td>\n",
       "      <td>BIOP</td>\n",
       "      <td>NAS</td>\n",
       "      <td>1927</td>\n",
       "      <td>4979.0</td>\n",
       "      <td>474.0</td>\n",
       "      <td>9.519984</td>\n",
       "      <td>1357.0</td>\n",
       "      <td>27.254469</td>\n",
       "      <td>...</td>\n",
       "      <td>Veinous</td>\n",
       "      <td>Endothelial</td>\n",
       "      <td>Endothelial</td>\n",
       "      <td>11</td>\n",
       "      <td>GAP Stage 1</td>\n",
       "      <td>non-smoker_IPF</td>\n",
       "      <td>9</td>\n",
       "      <td>9</td>\n",
       "      <td>8</td>\n",
       "      <td>Veinous</td>\n",
       "    </tr>\n",
       "    <tr>\n",
       "      <th>D534_BIOP_PROAATCGACAGCAAGTCG-1</th>\n",
       "      <td>D534_BIOP_PRO</td>\n",
       "      <td>D534</td>\n",
       "      <td>BIOP</td>\n",
       "      <td>PRO</td>\n",
       "      <td>1264</td>\n",
       "      <td>3013.0</td>\n",
       "      <td>311.0</td>\n",
       "      <td>10.321939</td>\n",
       "      <td>779.0</td>\n",
       "      <td>25.854630</td>\n",
       "      <td>...</td>\n",
       "      <td>Capillary</td>\n",
       "      <td>Endothelial</td>\n",
       "      <td>Endothelial</td>\n",
       "      <td>11</td>\n",
       "      <td>Healthy</td>\n",
       "      <td>non-smoker_CTRL</td>\n",
       "      <td>9</td>\n",
       "      <td>9</td>\n",
       "      <td>8</td>\n",
       "      <td>Capillary</td>\n",
       "    </tr>\n",
       "    <tr>\n",
       "      <th>D463_BIOP_NAS1TCGCTTGTCACTTGGA-1</th>\n",
       "      <td>D463_BIOP_NAS1</td>\n",
       "      <td>D463</td>\n",
       "      <td>BIOP</td>\n",
       "      <td>NAS</td>\n",
       "      <td>3691</td>\n",
       "      <td>11794.0</td>\n",
       "      <td>1314.0</td>\n",
       "      <td>11.141258</td>\n",
       "      <td>2867.0</td>\n",
       "      <td>24.308971</td>\n",
       "      <td>...</td>\n",
       "      <td>Veinous</td>\n",
       "      <td>Endothelial</td>\n",
       "      <td>Endothelial</td>\n",
       "      <td>11</td>\n",
       "      <td>GAP Stage 1</td>\n",
       "      <td>non-smoker_IPF</td>\n",
       "      <td>9</td>\n",
       "      <td>9</td>\n",
       "      <td>8</td>\n",
       "      <td>Veinous</td>\n",
       "    </tr>\n",
       "    <tr>\n",
       "      <th>D489_BIOP_PROAGGGAGTTCGGTCTGG-1</th>\n",
       "      <td>D489_BIOP_PRO</td>\n",
       "      <td>D489</td>\n",
       "      <td>BIOP</td>\n",
       "      <td>PRO</td>\n",
       "      <td>738</td>\n",
       "      <td>1096.0</td>\n",
       "      <td>57.0</td>\n",
       "      <td>5.200730</td>\n",
       "      <td>127.0</td>\n",
       "      <td>11.587591</td>\n",
       "      <td>...</td>\n",
       "      <td>Capillary</td>\n",
       "      <td>Endothelial</td>\n",
       "      <td>Endothelial</td>\n",
       "      <td>11</td>\n",
       "      <td>GOLD 1</td>\n",
       "      <td>non-smoker_BPCO</td>\n",
       "      <td>9</td>\n",
       "      <td>9</td>\n",
       "      <td>8</td>\n",
       "      <td>Capillary</td>\n",
       "    </tr>\n",
       "    <tr>\n",
       "      <th>...</th>\n",
       "      <td>...</td>\n",
       "      <td>...</td>\n",
       "      <td>...</td>\n",
       "      <td>...</td>\n",
       "      <td>...</td>\n",
       "      <td>...</td>\n",
       "      <td>...</td>\n",
       "      <td>...</td>\n",
       "      <td>...</td>\n",
       "      <td>...</td>\n",
       "      <td>...</td>\n",
       "      <td>...</td>\n",
       "      <td>...</td>\n",
       "      <td>...</td>\n",
       "      <td>...</td>\n",
       "      <td>...</td>\n",
       "      <td>...</td>\n",
       "      <td>...</td>\n",
       "      <td>...</td>\n",
       "      <td>...</td>\n",
       "      <td>...</td>\n",
       "    </tr>\n",
       "    <tr>\n",
       "      <th>D460_BRUS_NAS1TCTATACCAATGGGTG-1</th>\n",
       "      <td>D460_BRUS_NAS1</td>\n",
       "      <td>D460</td>\n",
       "      <td>BRUS</td>\n",
       "      <td>NAS</td>\n",
       "      <td>1500</td>\n",
       "      <td>4263.0</td>\n",
       "      <td>447.0</td>\n",
       "      <td>10.485574</td>\n",
       "      <td>1342.0</td>\n",
       "      <td>31.480179</td>\n",
       "      <td>...</td>\n",
       "      <td>Suprabasal</td>\n",
       "      <td>Epithelial</td>\n",
       "      <td>Suprabasal</td>\n",
       "      <td>0</td>\n",
       "      <td>GAP Stage 1</td>\n",
       "      <td>non-smoker_IPF</td>\n",
       "      <td>2</td>\n",
       "      <td>1</td>\n",
       "      <td>1</td>\n",
       "      <td>Suprabasal</td>\n",
       "    </tr>\n",
       "    <tr>\n",
       "      <th>D460_BRUS_NAS1GTTATGGCAATGGCAG-1</th>\n",
       "      <td>D460_BRUS_NAS1</td>\n",
       "      <td>D460</td>\n",
       "      <td>BRUS</td>\n",
       "      <td>NAS</td>\n",
       "      <td>2422</td>\n",
       "      <td>6089.0</td>\n",
       "      <td>774.0</td>\n",
       "      <td>12.711448</td>\n",
       "      <td>740.0</td>\n",
       "      <td>12.153063</td>\n",
       "      <td>...</td>\n",
       "      <td>Ionocyte</td>\n",
       "      <td>Epithelial</td>\n",
       "      <td>Ionocyte</td>\n",
       "      <td>24</td>\n",
       "      <td>GAP Stage 1</td>\n",
       "      <td>non-smoker_IPF</td>\n",
       "      <td>29</td>\n",
       "      <td>27</td>\n",
       "      <td>27</td>\n",
       "      <td>Ionocyte</td>\n",
       "    </tr>\n",
       "    <tr>\n",
       "      <th>D460_BRUS_NAS1ATGAGTCAGCCGTTGC-1</th>\n",
       "      <td>D460_BRUS_NAS1</td>\n",
       "      <td>D460</td>\n",
       "      <td>BRUS</td>\n",
       "      <td>NAS</td>\n",
       "      <td>2784</td>\n",
       "      <td>11638.0</td>\n",
       "      <td>1460.0</td>\n",
       "      <td>12.545111</td>\n",
       "      <td>2642.0</td>\n",
       "      <td>22.701494</td>\n",
       "      <td>...</td>\n",
       "      <td>Goblet</td>\n",
       "      <td>Epithelial</td>\n",
       "      <td>Goblet</td>\n",
       "      <td>5</td>\n",
       "      <td>GAP Stage 1</td>\n",
       "      <td>non-smoker_IPF</td>\n",
       "      <td>13</td>\n",
       "      <td>5</td>\n",
       "      <td>4</td>\n",
       "      <td>Goblet</td>\n",
       "    </tr>\n",
       "    <tr>\n",
       "      <th>D460_BRUS_NAS1TCATACTAGCAGTAAT-1</th>\n",
       "      <td>D460_BRUS_NAS1</td>\n",
       "      <td>D460</td>\n",
       "      <td>BRUS</td>\n",
       "      <td>NAS</td>\n",
       "      <td>2563</td>\n",
       "      <td>8025.0</td>\n",
       "      <td>919.0</td>\n",
       "      <td>11.451714</td>\n",
       "      <td>1619.0</td>\n",
       "      <td>20.174454</td>\n",
       "      <td>...</td>\n",
       "      <td>Goblet</td>\n",
       "      <td>Epithelial</td>\n",
       "      <td>Goblet</td>\n",
       "      <td>5</td>\n",
       "      <td>GAP Stage 1</td>\n",
       "      <td>non-smoker_IPF</td>\n",
       "      <td>13</td>\n",
       "      <td>5</td>\n",
       "      <td>4</td>\n",
       "      <td>Goblet</td>\n",
       "    </tr>\n",
       "    <tr>\n",
       "      <th>D460_BRUS_NAS1TTGTTGTCAAGATGTA-1</th>\n",
       "      <td>D460_BRUS_NAS1</td>\n",
       "      <td>D460</td>\n",
       "      <td>BRUS</td>\n",
       "      <td>NAS</td>\n",
       "      <td>1380</td>\n",
       "      <td>3443.0</td>\n",
       "      <td>255.0</td>\n",
       "      <td>7.406332</td>\n",
       "      <td>724.0</td>\n",
       "      <td>21.028173</td>\n",
       "      <td>...</td>\n",
       "      <td>Goblet</td>\n",
       "      <td>Epithelial</td>\n",
       "      <td>Goblet</td>\n",
       "      <td>5</td>\n",
       "      <td>GAP Stage 1</td>\n",
       "      <td>non-smoker_IPF</td>\n",
       "      <td>13</td>\n",
       "      <td>5</td>\n",
       "      <td>4</td>\n",
       "      <td>Goblet</td>\n",
       "    </tr>\n",
       "  </tbody>\n",
       "</table>\n",
       "<p>414609 rows × 47 columns</p>\n",
       "</div>"
      ],
      "text/plain": [
       "                                           manip donor method position  \\\n",
       "D460_BIOP_PRO1GGCTTGGAGCGCCTCA-1  D460_BIOP_PRO1  D460   BIOP      PRO   \n",
       "D463_BIOP_NAS1TCACTCGCATTGGGAG-1  D463_BIOP_NAS1  D463   BIOP      NAS   \n",
       "D534_BIOP_PROAATCGACAGCAAGTCG-1    D534_BIOP_PRO  D534   BIOP      PRO   \n",
       "D463_BIOP_NAS1TCGCTTGTCACTTGGA-1  D463_BIOP_NAS1  D463   BIOP      NAS   \n",
       "D489_BIOP_PROAGGGAGTTCGGTCTGG-1    D489_BIOP_PRO  D489   BIOP      PRO   \n",
       "...                                          ...   ...    ...      ...   \n",
       "D460_BRUS_NAS1TCTATACCAATGGGTG-1  D460_BRUS_NAS1  D460   BRUS      NAS   \n",
       "D460_BRUS_NAS1GTTATGGCAATGGCAG-1  D460_BRUS_NAS1  D460   BRUS      NAS   \n",
       "D460_BRUS_NAS1ATGAGTCAGCCGTTGC-1  D460_BRUS_NAS1  D460   BRUS      NAS   \n",
       "D460_BRUS_NAS1TCATACTAGCAGTAAT-1  D460_BRUS_NAS1  D460   BRUS      NAS   \n",
       "D460_BRUS_NAS1TTGTTGTCAAGATGTA-1  D460_BRUS_NAS1  D460   BRUS      NAS   \n",
       "\n",
       "                                  n_genes_by_counts  total_counts  \\\n",
       "D460_BIOP_PRO1GGCTTGGAGCGCCTCA-1               2150        5919.0   \n",
       "D463_BIOP_NAS1TCACTCGCATTGGGAG-1               1927        4979.0   \n",
       "D534_BIOP_PROAATCGACAGCAAGTCG-1                1264        3013.0   \n",
       "D463_BIOP_NAS1TCGCTTGTCACTTGGA-1               3691       11794.0   \n",
       "D489_BIOP_PROAGGGAGTTCGGTCTGG-1                 738        1096.0   \n",
       "...                                             ...           ...   \n",
       "D460_BRUS_NAS1TCTATACCAATGGGTG-1               1500        4263.0   \n",
       "D460_BRUS_NAS1GTTATGGCAATGGCAG-1               2422        6089.0   \n",
       "D460_BRUS_NAS1ATGAGTCAGCCGTTGC-1               2784       11638.0   \n",
       "D460_BRUS_NAS1TCATACTAGCAGTAAT-1               2563        8025.0   \n",
       "D460_BRUS_NAS1TTGTTGTCAAGATGTA-1               1380        3443.0   \n",
       "\n",
       "                                  total_counts_mt  pct_counts_mt  \\\n",
       "D460_BIOP_PRO1GGCTTGGAGCGCCTCA-1            283.0       4.782021   \n",
       "D463_BIOP_NAS1TCACTCGCATTGGGAG-1            474.0       9.519984   \n",
       "D534_BIOP_PROAATCGACAGCAAGTCG-1             311.0      10.321939   \n",
       "D463_BIOP_NAS1TCGCTTGTCACTTGGA-1           1314.0      11.141258   \n",
       "D489_BIOP_PROAGGGAGTTCGGTCTGG-1              57.0       5.200730   \n",
       "...                                           ...            ...   \n",
       "D460_BRUS_NAS1TCTATACCAATGGGTG-1            447.0      10.485574   \n",
       "D460_BRUS_NAS1GTTATGGCAATGGCAG-1            774.0      12.711448   \n",
       "D460_BRUS_NAS1ATGAGTCAGCCGTTGC-1           1460.0      12.545111   \n",
       "D460_BRUS_NAS1TCATACTAGCAGTAAT-1            919.0      11.451714   \n",
       "D460_BRUS_NAS1TTGTTGTCAAGATGTA-1            255.0       7.406332   \n",
       "\n",
       "                                  total_counts_ribo  pct_counts_ribo  ...  \\\n",
       "D460_BIOP_PRO1GGCTTGGAGCGCCTCA-1             1510.0        25.515377  ...   \n",
       "D463_BIOP_NAS1TCACTCGCATTGGGAG-1             1357.0        27.254469  ...   \n",
       "D534_BIOP_PROAATCGACAGCAAGTCG-1               779.0        25.854630  ...   \n",
       "D463_BIOP_NAS1TCGCTTGTCACTTGGA-1             2867.0        24.308971  ...   \n",
       "D489_BIOP_PROAGGGAGTTCGGTCTGG-1               127.0        11.587591  ...   \n",
       "...                                             ...              ...  ...   \n",
       "D460_BRUS_NAS1TCTATACCAATGGGTG-1             1342.0        31.480179  ...   \n",
       "D460_BRUS_NAS1GTTATGGCAATGGCAG-1              740.0        12.153063  ...   \n",
       "D460_BRUS_NAS1ATGAGTCAGCCGTTGC-1             2642.0        22.701494  ...   \n",
       "D460_BRUS_NAS1TCATACTAGCAGTAAT-1             1619.0        20.174454  ...   \n",
       "D460_BRUS_NAS1TTGTTGTCAAGATGTA-1              724.0        21.028173  ...   \n",
       "\n",
       "                                 celltype_lv2_V5  celltype_lv0_V5  \\\n",
       "D460_BIOP_PRO1GGCTTGGAGCGCCTCA-1         Veinous      Endothelial   \n",
       "D463_BIOP_NAS1TCACTCGCATTGGGAG-1         Veinous      Endothelial   \n",
       "D534_BIOP_PROAATCGACAGCAAGTCG-1        Capillary      Endothelial   \n",
       "D463_BIOP_NAS1TCGCTTGTCACTTGGA-1         Veinous      Endothelial   \n",
       "D489_BIOP_PROAGGGAGTTCGGTCTGG-1        Capillary      Endothelial   \n",
       "...                                          ...              ...   \n",
       "D460_BRUS_NAS1TCTATACCAATGGGTG-1      Suprabasal       Epithelial   \n",
       "D460_BRUS_NAS1GTTATGGCAATGGCAG-1        Ionocyte       Epithelial   \n",
       "D460_BRUS_NAS1ATGAGTCAGCCGTTGC-1          Goblet       Epithelial   \n",
       "D460_BRUS_NAS1TCATACTAGCAGTAAT-1          Goblet       Epithelial   \n",
       "D460_BRUS_NAS1TTGTTGTCAAGATGTA-1          Goblet       Epithelial   \n",
       "\n",
       "                                  celltype_lv1_V5  leiden_scANVI  \\\n",
       "D460_BIOP_PRO1GGCTTGGAGCGCCTCA-1      Endothelial             11   \n",
       "D463_BIOP_NAS1TCACTCGCATTGGGAG-1      Endothelial             11   \n",
       "D534_BIOP_PROAATCGACAGCAAGTCG-1       Endothelial             11   \n",
       "D463_BIOP_NAS1TCGCTTGTCACTTGGA-1      Endothelial             11   \n",
       "D489_BIOP_PROAGGGAGTTCGGTCTGG-1       Endothelial             11   \n",
       "...                                           ...            ...   \n",
       "D460_BRUS_NAS1TCTATACCAATGGGTG-1       Suprabasal              0   \n",
       "D460_BRUS_NAS1GTTATGGCAATGGCAG-1         Ionocyte             24   \n",
       "D460_BRUS_NAS1ATGAGTCAGCCGTTGC-1           Goblet              5   \n",
       "D460_BRUS_NAS1TCATACTAGCAGTAAT-1           Goblet              5   \n",
       "D460_BRUS_NAS1TTGTTGTCAAGATGTA-1           Goblet              5   \n",
       "\n",
       "                                 disease_score  smoker_phenotype  \\\n",
       "D460_BIOP_PRO1GGCTTGGAGCGCCTCA-1   GAP Stage 1    non-smoker_IPF   \n",
       "D463_BIOP_NAS1TCACTCGCATTGGGAG-1   GAP Stage 1    non-smoker_IPF   \n",
       "D534_BIOP_PROAATCGACAGCAAGTCG-1        Healthy   non-smoker_CTRL   \n",
       "D463_BIOP_NAS1TCGCTTGTCACTTGGA-1   GAP Stage 1    non-smoker_IPF   \n",
       "D489_BIOP_PROAGGGAGTTCGGTCTGG-1         GOLD 1   non-smoker_BPCO   \n",
       "...                                        ...               ...   \n",
       "D460_BRUS_NAS1TCTATACCAATGGGTG-1   GAP Stage 1    non-smoker_IPF   \n",
       "D460_BRUS_NAS1GTTATGGCAATGGCAG-1   GAP Stage 1    non-smoker_IPF   \n",
       "D460_BRUS_NAS1ATGAGTCAGCCGTTGC-1   GAP Stage 1    non-smoker_IPF   \n",
       "D460_BRUS_NAS1TCATACTAGCAGTAAT-1   GAP Stage 1    non-smoker_IPF   \n",
       "D460_BRUS_NAS1TTGTTGTCAAGATGTA-1   GAP Stage 1    non-smoker_IPF   \n",
       "\n",
       "                                 leiden_scANVI_hvg_10000 leiden_scANVI_nl_50  \\\n",
       "D460_BIOP_PRO1GGCTTGGAGCGCCTCA-1                       9                   9   \n",
       "D463_BIOP_NAS1TCACTCGCATTGGGAG-1                       9                   9   \n",
       "D534_BIOP_PROAATCGACAGCAAGTCG-1                        9                   9   \n",
       "D463_BIOP_NAS1TCGCTTGTCACTTGGA-1                       9                   9   \n",
       "D489_BIOP_PROAGGGAGTTCGGTCTGG-1                        9                   9   \n",
       "...                                                  ...                 ...   \n",
       "D460_BRUS_NAS1TCTATACCAATGGGTG-1                       2                   1   \n",
       "D460_BRUS_NAS1GTTATGGCAATGGCAG-1                      29                  27   \n",
       "D460_BRUS_NAS1ATGAGTCAGCCGTTGC-1                      13                   5   \n",
       "D460_BRUS_NAS1TCATACTAGCAGTAAT-1                      13                   5   \n",
       "D460_BRUS_NAS1TTGTTGTCAAGATGTA-1                      13                   5   \n",
       "\n",
       "                                 leiden_scANVI_hvg_10000_nl_50 celltype_lv3_V5  \n",
       "D460_BIOP_PRO1GGCTTGGAGCGCCTCA-1                             8         Veinous  \n",
       "D463_BIOP_NAS1TCACTCGCATTGGGAG-1                             8         Veinous  \n",
       "D534_BIOP_PROAATCGACAGCAAGTCG-1                              8       Capillary  \n",
       "D463_BIOP_NAS1TCGCTTGTCACTTGGA-1                             8         Veinous  \n",
       "D489_BIOP_PROAGGGAGTTCGGTCTGG-1                              8       Capillary  \n",
       "...                                                        ...             ...  \n",
       "D460_BRUS_NAS1TCTATACCAATGGGTG-1                             1      Suprabasal  \n",
       "D460_BRUS_NAS1GTTATGGCAATGGCAG-1                            27        Ionocyte  \n",
       "D460_BRUS_NAS1ATGAGTCAGCCGTTGC-1                             4          Goblet  \n",
       "D460_BRUS_NAS1TCATACTAGCAGTAAT-1                             4          Goblet  \n",
       "D460_BRUS_NAS1TTGTTGTCAAGATGTA-1                             4          Goblet  \n",
       "\n",
       "[414609 rows x 47 columns]"
      ]
     },
     "execution_count": 14,
     "metadata": {},
     "output_type": "execute_result"
    }
   ],
   "source": [
    "gene_anndata_from_short_reads.obs"
   ]
  },
  {
   "cell_type": "markdown",
   "metadata": {},
   "source": [
    "To ensure a coherent and integrated analysis of the transcriptomic data derived from both long-read and short-read sequencing technologies, it is imperative to harmonize the indexes of the corresponding Anndata objects. This step is crucial as it aligns the observations (cells) across the datasets, enabling a direct comparison and subsequent operations such as data integration, differential expression analysis, and visualization. The process of index matching is facilitated by the `subset_common_cells` function from the longreadtools library, which is designed to identify and retain only those cells that are present in both datasets. This function is exemplified in the codeblock below, where it is employed to refine our datasets to a common set of cells, thereby setting the stage for a robust comparative analysis that leverages the unique strengths of each sequencing technology within the longreadtools framework.\n"
   ]
  },
  {
   "cell_type": "code",
   "execution_count": 15,
   "metadata": {},
   "outputs": [
    {
     "name": "stderr",
     "output_type": "stream",
     "text": [
      "/home/mcandrew/.conda/envs/scLRanalyis/lib/python3.11/site-packages/pandas/core/arrays/categorical.py:568: RuntimeWarning: invalid value encountered in cast\n",
      "  np.array(self.categories._na_value).astype(dtype)\n"
     ]
    }
   ],
   "source": [
    "isoform_anndata_from_long_reads.obs['batch'] = isoform_anndata_from_long_reads.obs['batch'].astype(str)\n",
    "isoform_anndata_from_long_reads.obs_names = isoform_anndata_from_long_reads.obs['batch'] + isoform_anndata_from_long_reads.obs_names + \"-1\"\n"
   ]
  },
  {
   "cell_type": "markdown",
   "metadata": {},
   "source": [
    "After the standardization of the Anndata objects' indexes, we can confirm that the indexes are now aligned and ready for comparative analysis. This alignment is crucial for the integration of the long-read and short-read transcriptomic data, as it ensures that the same cells are represented in both datasets. The function `subset_common_cells` from the longreadtools library, which is highlighted in the codeblock below, plays a pivotal role in this process. By subsetting the Anndata objects to include only the common cells, we facilitate a more accurate and meaningful comparison between the datasets. \n"
   ]
  },
  {
   "cell_type": "code",
   "execution_count": 16,
   "metadata": {},
   "outputs": [
    {
     "data": {
      "text/plain": [
       "Index(['D498_BIOP_INTAGGAAATGTACAAGCG-1', 'D498_BIOP_INTGCCATTCGTCGGAACA-1',\n",
       "       'D498_BIOP_INTTCGACCTCAGTGTGCC-1', 'D498_BIOP_INTCGTAGTATCAGTGTGT-1',\n",
       "       'D498_BIOP_INTGCCAGGTGTCTAACTG-1', 'D498_BIOP_INTTGTGTGAGTGTTGACT-1',\n",
       "       'D498_BIOP_INTCAGATACTCCAACTGA-1', 'D498_BIOP_INTGCCGATGTCTCATTAC-1',\n",
       "       'D498_BIOP_INTGGAGAACTCTCGAGTA-1', 'D498_BIOP_INTAAGCATCTCGTGGTAT-1',\n",
       "       ...\n",
       "       'D492_BIOP_INTAAAGTGAAGGTTACAA-1', 'D492_BIOP_INTTACGGGCGTGAGACCA-1',\n",
       "       'D492_BIOP_INTACAGGGAGTCAACATC-1', 'D492_BIOP_INTTTTCGATCAGGCCTGT-1',\n",
       "       'D492_BIOP_INTAACAACCTCATCAGTG-1', 'D492_BIOP_INTAGTGACTTCTAAGCCA-1',\n",
       "       'D492_BIOP_INTCATTGTTCATCACCAA-1', 'D492_BIOP_INTGATGATCCACACAGAG-1',\n",
       "       'D492_BIOP_INTTCGAACATCAGTGCGC-1', 'D492_BIOP_INTGTTGCGGCACCTGCTT-1'],\n",
       "      dtype='object', length=122872)"
      ]
     },
     "execution_count": 16,
     "metadata": {},
     "output_type": "execute_result"
    }
   ],
   "source": [
    "isoform_anndata_from_long_reads.obs_names"
   ]
  },
  {
   "cell_type": "markdown",
   "metadata": {},
   "source": [
    "In this section, we are going to utilize the `subset_common_cells` function from the longreadtools library to harmonize our datasets. This function is crucial for ensuring that we are comparing the same cells across the two Anndata objects - one derived from long-read sequencing and the other from short-read sequencing. By importing and applying this function, we can identify the intersection of cells present in both datasets, allowing for a consistent and integrated analysis. This step is foundational for the subsequent comparative analysis and integration tasks that leverage the unique advantages of each sequencing technology within the longreadtools framework.\n"
   ]
  },
  {
   "cell_type": "code",
   "execution_count": 17,
   "metadata": {},
   "outputs": [],
   "source": [
    "from longreadtools.Standardization import *\n",
    "isoform_matrix = subset_common_cells(isoform_anndata_from_long_reads, gene_anndata_from_short_reads)"
   ]
  },
  {
   "cell_type": "markdown",
   "metadata": {},
   "source": [
    "In the previous steps, we have successfully standardized the indexes of our Anndata objects and utilized the `subset_common_cells` function to refine the isoform Anndata object derived from long-read sequencing data. The next logical step is to apply the same subsetting process to the gene Anndata object from short-read sequencing data. This ensures that both datasets are synchronized and contain only the cells common to both, which is a prerequisite for accurate annotation transfer. The annotations, which include vital metadata such as cell type, condition, and experimental batch information, are crucial for downstream analysis and interpretation of the integrated dataset. The codeblock below demonstrates the use of the `subset_common_cells` function for this purpose, setting the stage for a seamless transfer of annotations from the short-read to the long-read dataset within the longreadtools framework.\n"
   ]
  },
  {
   "cell_type": "code",
   "execution_count": 18,
   "metadata": {},
   "outputs": [],
   "source": [
    "gene_matrtrix  = subset_common_cells(gene_anndata_from_short_reads, isoform_matrix)"
   ]
  },
  {
   "cell_type": "markdown",
   "metadata": {},
   "source": [
    "The next step in our analysis pipeline is to transfer the observation annotations from the `gene_matrix` Anndata object, which contains the short-read sequencing data, to the `isoform_matrix` Anndata object, which contains the long-read sequencing data. This is a critical step as it ensures that the metadata, which includes information such as cell type, condition, and experimental batch, is consistently annotated across both datasets. The `transfer_obs` function from the longreadtools library is instrumental in this process. It meticulously maps the `.obs` attributes from one Anndata object to another based on the shared cell identifiers, thus preserving the integrity of the data and enabling a seamless integration. The codeblock below demonstrates the application of this function, which is a testament to the library's capability to facilitate complex operations in transcriptomic data analysis within a unified framework.\n"
   ]
  },
  {
   "cell_type": "code",
   "execution_count": 19,
   "metadata": {},
   "outputs": [],
   "source": [
    "annotated_isoform_matrix = transfer_obs(gene_matrtrix, isoform_matrix)"
   ]
  },
  {
   "cell_type": "markdown",
   "metadata": {},
   "source": [
    "In this step, we delve into the annotated isoform matrix, which is a product of the meticulous standardization and subsetting processes we have applied to our Anndata objects. The `annotated_isoform_matrix` is a rich dataset that combines the detailed isoform data obtained from long-read sequencing with the comprehensive annotations transferred from the gene matrix derived from short-read sequencing. This matrix is a testament to the capabilities of the `longreadtools` library, particularly showcasing the `transfer_obs` function, which we have utilized to enrich our isoform data with valuable metadata from the gene matrix. By examining this matrix, we gain insights into the transcriptomic landscape at an isoform resolution, which is crucial for understanding the complexity of gene expression patterns. The annotations included in this matrix, such as cell type, donor information, and technical attributes, are pivotal for subsequent analyses that aim to unravel the biological and clinical significance of the data within the context of the longreadtools framework.\n"
   ]
  },
  {
   "cell_type": "code",
   "execution_count": 20,
   "metadata": {},
   "outputs": [
    {
     "data": {
      "text/plain": [
       "AnnData object with n_obs × n_vars = 62725 × 89177\n",
       "    obs: 'manip', 'donor', 'method', 'position', 'n_genes_by_counts', 'total_counts', 'total_counts_mt', 'pct_counts_mt', 'total_counts_ribo', 'pct_counts_ribo', 'louvain', 'n_genes', 'nCount_SCT', 'nFeature_SCT', 'batch', 'age', 'gender', 'phenotype', 'respifinder', 'TRACvsNAS', 'sixty_plus', 'smoker', 'smoking_years', 'leiden', 'leiden_Endothelial', 'leiden_Stromal', 'leiden_Immune', 'leiden_Epithelial', 'log1p_n_genes_by_counts', 'log1p_total_counts', 'pct_counts_in_top_50_genes', 'pct_counts_in_top_100_genes', 'pct_counts_in_top_200_genes', 'pct_counts_in_top_500_genes', 'celltype_lv2_V4', 'celltype_lv0_V4', 'celltype_lv1_V4', 'celltype_lv2_V5', 'celltype_lv0_V5', 'celltype_lv1_V5', 'leiden_scANVI', 'disease_score', 'smoker_phenotype', 'leiden_scANVI_hvg_10000', 'leiden_scANVI_nl_50', 'leiden_scANVI_hvg_10000_nl_50', 'celltype_lv3_V5'\n",
       "    var: 'geneId', 'transcriptId', 'nbExons'"
      ]
     },
     "execution_count": 20,
     "metadata": {},
     "output_type": "execute_result"
    }
   ],
   "source": [
    "annotated_isoform_matrix"
   ]
  },
  {
   "cell_type": "markdown",
   "metadata": {},
   "source": [
    "# et voilà, nous avons terminé !\n"
   ]
  },
  {
   "cell_type": "markdown",
   "metadata": {},
   "source": []
  }
 ],
 "metadata": {
  "kernelspec": {
   "display_name": "python3",
   "language": "python",
   "name": "python3"
  },
  "language_info": {
   "codemirror_mode": {
    "name": "ipython",
    "version": 3
   },
   "file_extension": ".py",
   "mimetype": "text/x-python",
   "name": "python",
   "nbconvert_exporter": "python",
   "pygments_lexer": "ipython3",
   "version": "3.11.4"
  }
 },
 "nbformat": 4,
 "nbformat_minor": 4
}
