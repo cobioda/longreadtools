{
 "cells": [
  {
   "cell_type": "code",
   "execution_count": 1,
   "metadata": {},
   "outputs": [
    {
     "name": "stdout",
     "output_type": "stream",
     "text": [
      "Collecting git+https://github.com/cobioda/longreadtools.git\n",
      "  Cloning https://github.com/cobioda/longreadtools.git to /tmp/pip-req-build-z2c6y2in\n",
      "  Running command git clone --filter=blob:none --quiet https://github.com/cobioda/longreadtools.git /tmp/pip-req-build-z2c6y2in\n",
      "  Resolved https://github.com/cobioda/longreadtools.git to commit 0ba4cadf37a7fe88184d760e8f57a1aab4909a2b\n",
      "  Preparing metadata (setup.py) ... \u001b[?25ldone\n",
      "\u001b[?25hRequirement already satisfied: scanpy in /home/mcandrew/.conda/envs/scLRanalyis/lib/python3.11/site-packages (from longreadtools==0.0.1) (1.9.4)\n",
      "Requirement already satisfied: numpy in /home/mcandrew/.conda/envs/scLRanalyis/lib/python3.11/site-packages (from longreadtools==0.0.1) (1.24.4)\n",
      "Requirement already satisfied: scipy in /home/mcandrew/.conda/envs/scLRanalyis/lib/python3.11/site-packages (from longreadtools==0.0.1) (1.11.2)\n",
      "Requirement already satisfied: pandas in /home/mcandrew/.conda/envs/scLRanalyis/lib/python3.11/site-packages (from longreadtools==0.0.1) (2.1.3)\n",
      "Requirement already satisfied: regex in /home/mcandrew/.conda/envs/scLRanalyis/lib/python3.11/site-packages (from longreadtools==0.0.1) (2023.10.3)\n",
      "Requirement already satisfied: python-dateutil>=2.8.2 in /home/mcandrew/.conda/envs/scLRanalyis/lib/python3.11/site-packages (from pandas->longreadtools==0.0.1) (2.8.2)\n",
      "Requirement already satisfied: pytz>=2020.1 in /home/mcandrew/.conda/envs/scLRanalyis/lib/python3.11/site-packages (from pandas->longreadtools==0.0.1) (2023.3.post1)\n",
      "Requirement already satisfied: tzdata>=2022.1 in /home/mcandrew/.conda/envs/scLRanalyis/lib/python3.11/site-packages (from pandas->longreadtools==0.0.1) (2023.3)\n",
      "Requirement already satisfied: anndata>=0.7.4 in /home/mcandrew/.conda/envs/scLRanalyis/lib/python3.11/site-packages (from scanpy->longreadtools==0.0.1) (0.10.3)\n",
      "Requirement already satisfied: matplotlib>=3.4 in /home/mcandrew/.conda/envs/scLRanalyis/lib/python3.11/site-packages (from scanpy->longreadtools==0.0.1) (3.7.2)\n",
      "Requirement already satisfied: seaborn in /home/mcandrew/.conda/envs/scLRanalyis/lib/python3.11/site-packages (from scanpy->longreadtools==0.0.1) (0.12.2)\n",
      "Requirement already satisfied: h5py>=3 in /home/mcandrew/.conda/envs/scLRanalyis/lib/python3.11/site-packages (from scanpy->longreadtools==0.0.1) (3.9.0)\n",
      "Requirement already satisfied: tqdm in /home/mcandrew/.conda/envs/scLRanalyis/lib/python3.11/site-packages (from scanpy->longreadtools==0.0.1) (4.66.1)\n",
      "Requirement already satisfied: scikit-learn>=0.24 in /home/mcandrew/.conda/envs/scLRanalyis/lib/python3.11/site-packages (from scanpy->longreadtools==0.0.1) (1.3.1)\n",
      "Requirement already satisfied: statsmodels>=0.10.0rc2 in /home/mcandrew/.conda/envs/scLRanalyis/lib/python3.11/site-packages (from scanpy->longreadtools==0.0.1) (0.14.0)\n",
      "Requirement already satisfied: patsy in /home/mcandrew/.conda/envs/scLRanalyis/lib/python3.11/site-packages (from scanpy->longreadtools==0.0.1) (0.5.3)\n",
      "Requirement already satisfied: networkx>=2.3 in /home/mcandrew/.conda/envs/scLRanalyis/lib/python3.11/site-packages (from scanpy->longreadtools==0.0.1) (3.1)\n",
      "Requirement already satisfied: natsort in /home/mcandrew/.conda/envs/scLRanalyis/lib/python3.11/site-packages (from scanpy->longreadtools==0.0.1) (8.4.0)\n",
      "Requirement already satisfied: joblib in /home/mcandrew/.conda/envs/scLRanalyis/lib/python3.11/site-packages (from scanpy->longreadtools==0.0.1) (1.3.2)\n",
      "Requirement already satisfied: numba>=0.41.0 in /home/mcandrew/.conda/envs/scLRanalyis/lib/python3.11/site-packages (from scanpy->longreadtools==0.0.1) (0.57.0)\n",
      "Requirement already satisfied: umap-learn>=0.3.10 in /home/mcandrew/.conda/envs/scLRanalyis/lib/python3.11/site-packages (from scanpy->longreadtools==0.0.1) (0.5.3)\n",
      "Requirement already satisfied: packaging in /home/mcandrew/.conda/envs/scLRanalyis/lib/python3.11/site-packages (from scanpy->longreadtools==0.0.1) (23.1)\n",
      "Requirement already satisfied: session-info in /home/mcandrew/.conda/envs/scLRanalyis/lib/python3.11/site-packages (from scanpy->longreadtools==0.0.1) (1.0.0)\n",
      "Requirement already satisfied: array-api-compat in /home/mcandrew/.conda/envs/scLRanalyis/lib/python3.11/site-packages (from anndata>=0.7.4->scanpy->longreadtools==0.0.1) (1.4)\n",
      "Requirement already satisfied: contourpy>=1.0.1 in /home/mcandrew/.conda/envs/scLRanalyis/lib/python3.11/site-packages (from matplotlib>=3.4->scanpy->longreadtools==0.0.1) (1.1.0)\n",
      "Requirement already satisfied: cycler>=0.10 in /home/mcandrew/.conda/envs/scLRanalyis/lib/python3.11/site-packages (from matplotlib>=3.4->scanpy->longreadtools==0.0.1) (0.11.0)\n",
      "Requirement already satisfied: fonttools>=4.22.0 in /home/mcandrew/.conda/envs/scLRanalyis/lib/python3.11/site-packages (from matplotlib>=3.4->scanpy->longreadtools==0.0.1) (4.42.1)\n",
      "Requirement already satisfied: kiwisolver>=1.0.1 in /home/mcandrew/.conda/envs/scLRanalyis/lib/python3.11/site-packages (from matplotlib>=3.4->scanpy->longreadtools==0.0.1) (1.4.5)\n",
      "Requirement already satisfied: pillow>=6.2.0 in /home/mcandrew/.conda/envs/scLRanalyis/lib/python3.11/site-packages (from matplotlib>=3.4->scanpy->longreadtools==0.0.1) (10.0.0)\n",
      "Requirement already satisfied: pyparsing<3.1,>=2.3.1 in /home/mcandrew/.conda/envs/scLRanalyis/lib/python3.11/site-packages (from matplotlib>=3.4->scanpy->longreadtools==0.0.1) (3.0.9)\n",
      "Requirement already satisfied: llvmlite<0.41,>=0.40.0dev0 in /home/mcandrew/.conda/envs/scLRanalyis/lib/python3.11/site-packages (from numba>=0.41.0->scanpy->longreadtools==0.0.1) (0.40.1)\n",
      "Requirement already satisfied: six>=1.5 in /home/mcandrew/.conda/envs/scLRanalyis/lib/python3.11/site-packages (from python-dateutil>=2.8.2->pandas->longreadtools==0.0.1) (1.16.0)\n",
      "Requirement already satisfied: threadpoolctl>=2.0.0 in /home/mcandrew/.conda/envs/scLRanalyis/lib/python3.11/site-packages (from scikit-learn>=0.24->scanpy->longreadtools==0.0.1) (3.2.0)\n",
      "Requirement already satisfied: pynndescent>=0.5 in /home/mcandrew/.conda/envs/scLRanalyis/lib/python3.11/site-packages (from umap-learn>=0.3.10->scanpy->longreadtools==0.0.1) (0.5.10)\n",
      "Requirement already satisfied: stdlib-list in /home/mcandrew/.conda/envs/scLRanalyis/lib/python3.11/site-packages (from session-info->scanpy->longreadtools==0.0.1) (0.9.0)\n",
      "Building wheels for collected packages: longreadtools\n",
      "  Building wheel for longreadtools (setup.py) ... \u001b[?25ldone\n",
      "\u001b[?25h  Created wheel for longreadtools: filename=longreadtools-0.0.1-py3-none-any.whl size=14417 sha256=91f91b9250851702e4cec2f90580daf00e8aebc548592f15fa46ba4b5f674e15\n",
      "  Stored in directory: /tmp/pip-ephem-wheel-cache-edd_7t1e/wheels/97/39/f0/7fa380bf9faac6a2cc85d6ca66b9e893d85e5c72c5eab2d983\n",
      "Successfully built longreadtools\n",
      "Installing collected packages: longreadtools\n",
      "Successfully installed longreadtools-0.0.1\n"
     ]
    }
   ],
   "source": [
    "!pip install git+https://github.com/cobioda/longreadtools.git"
   ]
  },
  {
   "cell_type": "code",
   "execution_count": 2,
   "metadata": {},
   "outputs": [],
   "source": [
    "#| hide\n",
    "from longreadtools.core import *"
   ]
  },
  {
   "cell_type": "markdown",
   "metadata": {},
   "source": [
    "# longreadtools\n",
    "\n",
    "> A working repository for development of tools for the analasis of long read rna sequencing data."
   ]
  },
  {
   "cell_type": "markdown",
   "metadata": {},
   "source": [
    "## Install"
   ]
  },
  {
   "cell_type": "markdown",
   "metadata": {},
   "source": [
    "```sh\n",
    "pip install git+https://github.com/cobioda/longreadtools.git\n",
    "\n",
    "```"
   ]
  },
  {
   "cell_type": "code",
   "execution_count": 3,
   "metadata": {},
   "outputs": [
    {
     "name": "stdout",
     "output_type": "stream",
     "text": [
      "Collecting git+https://github.com/cobioda/longreadtools.git\n",
      "  Cloning https://github.com/cobioda/longreadtools.git to /tmp/pip-req-build-84jxpj1r\n",
      "  Running command git clone --filter=blob:none --quiet https://github.com/cobioda/longreadtools.git /tmp/pip-req-build-84jxpj1r\n",
      "  Resolved https://github.com/cobioda/longreadtools.git to commit 0ba4cadf37a7fe88184d760e8f57a1aab4909a2b\n",
      "  Preparing metadata (setup.py) ... \u001b[?25ldone\n",
      "\u001b[?25hRequirement already satisfied: scanpy in /home/mcandrew/.conda/envs/scLRanalyis/lib/python3.11/site-packages (from longreadtools==0.0.1) (1.9.4)\n",
      "Requirement already satisfied: numpy in /home/mcandrew/.conda/envs/scLRanalyis/lib/python3.11/site-packages (from longreadtools==0.0.1) (1.24.4)\n",
      "Requirement already satisfied: scipy in /home/mcandrew/.conda/envs/scLRanalyis/lib/python3.11/site-packages (from longreadtools==0.0.1) (1.11.2)\n",
      "Requirement already satisfied: pandas in /home/mcandrew/.conda/envs/scLRanalyis/lib/python3.11/site-packages (from longreadtools==0.0.1) (2.1.3)\n",
      "Requirement already satisfied: regex in /home/mcandrew/.conda/envs/scLRanalyis/lib/python3.11/site-packages (from longreadtools==0.0.1) (2023.10.3)\n",
      "Requirement already satisfied: python-dateutil>=2.8.2 in /home/mcandrew/.conda/envs/scLRanalyis/lib/python3.11/site-packages (from pandas->longreadtools==0.0.1) (2.8.2)\n",
      "Requirement already satisfied: pytz>=2020.1 in /home/mcandrew/.conda/envs/scLRanalyis/lib/python3.11/site-packages (from pandas->longreadtools==0.0.1) (2023.3.post1)\n",
      "Requirement already satisfied: tzdata>=2022.1 in /home/mcandrew/.conda/envs/scLRanalyis/lib/python3.11/site-packages (from pandas->longreadtools==0.0.1) (2023.3)\n",
      "Requirement already satisfied: anndata>=0.7.4 in /home/mcandrew/.conda/envs/scLRanalyis/lib/python3.11/site-packages (from scanpy->longreadtools==0.0.1) (0.10.3)\n",
      "Requirement already satisfied: matplotlib>=3.4 in /home/mcandrew/.conda/envs/scLRanalyis/lib/python3.11/site-packages (from scanpy->longreadtools==0.0.1) (3.7.2)\n",
      "Requirement already satisfied: seaborn in /home/mcandrew/.conda/envs/scLRanalyis/lib/python3.11/site-packages (from scanpy->longreadtools==0.0.1) (0.12.2)\n",
      "Requirement already satisfied: h5py>=3 in /home/mcandrew/.conda/envs/scLRanalyis/lib/python3.11/site-packages (from scanpy->longreadtools==0.0.1) (3.9.0)\n",
      "Requirement already satisfied: tqdm in /home/mcandrew/.conda/envs/scLRanalyis/lib/python3.11/site-packages (from scanpy->longreadtools==0.0.1) (4.66.1)\n",
      "Requirement already satisfied: scikit-learn>=0.24 in /home/mcandrew/.conda/envs/scLRanalyis/lib/python3.11/site-packages (from scanpy->longreadtools==0.0.1) (1.3.1)\n",
      "Requirement already satisfied: statsmodels>=0.10.0rc2 in /home/mcandrew/.conda/envs/scLRanalyis/lib/python3.11/site-packages (from scanpy->longreadtools==0.0.1) (0.14.0)\n",
      "Requirement already satisfied: patsy in /home/mcandrew/.conda/envs/scLRanalyis/lib/python3.11/site-packages (from scanpy->longreadtools==0.0.1) (0.5.3)\n",
      "Requirement already satisfied: networkx>=2.3 in /home/mcandrew/.conda/envs/scLRanalyis/lib/python3.11/site-packages (from scanpy->longreadtools==0.0.1) (3.1)\n",
      "Requirement already satisfied: natsort in /home/mcandrew/.conda/envs/scLRanalyis/lib/python3.11/site-packages (from scanpy->longreadtools==0.0.1) (8.4.0)\n",
      "Requirement already satisfied: joblib in /home/mcandrew/.conda/envs/scLRanalyis/lib/python3.11/site-packages (from scanpy->longreadtools==0.0.1) (1.3.2)\n",
      "Requirement already satisfied: numba>=0.41.0 in /home/mcandrew/.conda/envs/scLRanalyis/lib/python3.11/site-packages (from scanpy->longreadtools==0.0.1) (0.57.0)\n",
      "Requirement already satisfied: umap-learn>=0.3.10 in /home/mcandrew/.conda/envs/scLRanalyis/lib/python3.11/site-packages (from scanpy->longreadtools==0.0.1) (0.5.3)\n",
      "Requirement already satisfied: packaging in /home/mcandrew/.conda/envs/scLRanalyis/lib/python3.11/site-packages (from scanpy->longreadtools==0.0.1) (23.1)\n",
      "Requirement already satisfied: session-info in /home/mcandrew/.conda/envs/scLRanalyis/lib/python3.11/site-packages (from scanpy->longreadtools==0.0.1) (1.0.0)\n",
      "Requirement already satisfied: array-api-compat in /home/mcandrew/.conda/envs/scLRanalyis/lib/python3.11/site-packages (from anndata>=0.7.4->scanpy->longreadtools==0.0.1) (1.4)\n",
      "Requirement already satisfied: contourpy>=1.0.1 in /home/mcandrew/.conda/envs/scLRanalyis/lib/python3.11/site-packages (from matplotlib>=3.4->scanpy->longreadtools==0.0.1) (1.1.0)\n",
      "Requirement already satisfied: cycler>=0.10 in /home/mcandrew/.conda/envs/scLRanalyis/lib/python3.11/site-packages (from matplotlib>=3.4->scanpy->longreadtools==0.0.1) (0.11.0)\n",
      "Requirement already satisfied: fonttools>=4.22.0 in /home/mcandrew/.conda/envs/scLRanalyis/lib/python3.11/site-packages (from matplotlib>=3.4->scanpy->longreadtools==0.0.1) (4.42.1)\n",
      "Requirement already satisfied: kiwisolver>=1.0.1 in /home/mcandrew/.conda/envs/scLRanalyis/lib/python3.11/site-packages (from matplotlib>=3.4->scanpy->longreadtools==0.0.1) (1.4.5)\n",
      "Requirement already satisfied: pillow>=6.2.0 in /home/mcandrew/.conda/envs/scLRanalyis/lib/python3.11/site-packages (from matplotlib>=3.4->scanpy->longreadtools==0.0.1) (10.0.0)\n",
      "Requirement already satisfied: pyparsing<3.1,>=2.3.1 in /home/mcandrew/.conda/envs/scLRanalyis/lib/python3.11/site-packages (from matplotlib>=3.4->scanpy->longreadtools==0.0.1) (3.0.9)\n",
      "Requirement already satisfied: llvmlite<0.41,>=0.40.0dev0 in /home/mcandrew/.conda/envs/scLRanalyis/lib/python3.11/site-packages (from numba>=0.41.0->scanpy->longreadtools==0.0.1) (0.40.1)\n",
      "Requirement already satisfied: six>=1.5 in /home/mcandrew/.conda/envs/scLRanalyis/lib/python3.11/site-packages (from python-dateutil>=2.8.2->pandas->longreadtools==0.0.1) (1.16.0)\n",
      "Requirement already satisfied: threadpoolctl>=2.0.0 in /home/mcandrew/.conda/envs/scLRanalyis/lib/python3.11/site-packages (from scikit-learn>=0.24->scanpy->longreadtools==0.0.1) (3.2.0)\n",
      "Requirement already satisfied: pynndescent>=0.5 in /home/mcandrew/.conda/envs/scLRanalyis/lib/python3.11/site-packages (from umap-learn>=0.3.10->scanpy->longreadtools==0.0.1) (0.5.10)\n",
      "Requirement already satisfied: stdlib-list in /home/mcandrew/.conda/envs/scLRanalyis/lib/python3.11/site-packages (from session-info->scanpy->longreadtools==0.0.1) (0.9.0)\n"
     ]
    }
   ],
   "source": [
    "#| hide\n",
    "!pip install git+https://github.com/cobioda/longreadtools.git"
   ]
  },
  {
   "cell_type": "markdown",
   "metadata": {},
   "source": [
    "## How to use"
   ]
  },
  {
   "cell_type": "markdown",
   "metadata": {},
   "source": [
    "Here we will use the `isomatrix_tools` module to convert our isomatrix txt files in bulk into `anndata` objects using the `multiple_isomatrix_conversion` function . Then, we will utilize our specialized `concatenate_anndata` function to generate a concatenated `anndata` for downstream analysis. \n"
   ]
  },
  {
   "cell_type": "code",
   "execution_count": 4,
   "metadata": {},
   "outputs": [],
   "source": [
    "from longreadtools.isomatrix_tools import *"
   ]
  },
  {
   "cell_type": "code",
   "execution_count": 5,
   "metadata": {},
   "outputs": [
    {
     "name": "stdout",
     "output_type": "stream",
     "text": [
      "['/data/analysis/data_mcandrew/000-sclr-discovair/D498_BIOP_INT', '/data/analysis/data_mcandrew/000-sclr-discovair/D492_BIOP_NAS', '/data/analysis/data_mcandrew/000-sclr-discovair/D494_BIOP_INT', '/data/analysis/data_mcandrew/000-sclr-discovair/D500_BIOP_INT', '/data/analysis/data_mcandrew/000-sclr-discovair/D494_BIOP_NAS', '/data/analysis/data_mcandrew/000-sclr-discovair/D496_BIOP_INT', '/data/analysis/data_mcandrew/000-sclr-discovair/D499_BIOP_INT', '/data/analysis/data_mcandrew/000-sclr-discovair/D493_BIOP_INT', '/data/analysis/data_mcandrew/000-sclr-discovair/D493_BIOP_NAS', '/data/analysis/data_mcandrew/000-sclr-discovair/D534_BIOP_INT', '/data/analysis/data_mcandrew/000-sclr-discovair/D490_BIOP_INT', '/data/analysis/data_mcandrew/000-sclr-discovair/D500_BIOP_NAS', '/data/analysis/data_mcandrew/000-sclr-discovair/D495_BIOP_INT', '/data/analysis/data_mcandrew/000-sclr-discovair/D492_BIOP_INT']\n"
     ]
    }
   ],
   "source": [
    "\n",
    "# Importing required libraries\n",
    "import os\n",
    "import re\n",
    "\n",
    "# Defining the directory path\n",
    "directory = '/data/analysis/data_mcandrew/000-sclr-discovair/'\n",
    "\n",
    "# Defining the regular expression pattern to match the required files\n",
    "pattern = re.compile('.*(_BIOP_INT|BIOP_NAS)$')\n",
    "\n",
    "# Getting a list of all files in the directory\n",
    "all_files = os.listdir(directory)\n",
    "\n",
    "# Filtering the list to include only files that match the pattern\n",
    "matching_files = [os.path.join(directory, f) for f in all_files if pattern.match(f)]\n",
    "\n",
    "# Printing the list of matching files\n",
    "print(matching_files)\n",
    "\n",
    "# Assigning the list of matching files to the variable 'individual_runs'\n",
    "individual_runs = matching_files\n",
    "\n",
    "# Adding '_isomatrix.txt' to each file name in the 'individual_runs' list\n",
    "individual_runs = [f'{run}_isomatrix.txt' for run in individual_runs]\n",
    "\n",
    "# Creating a list of paths for each isomatrix file in the 'matching_files' list\n",
    "isomatrix_paths = [os.path.join(run, f'{os.path.basename(run)}_isomatrix.txt') for run in matching_files]\n"
   ]
  },
  {
   "cell_type": "code",
   "execution_count": 6,
   "metadata": {},
   "outputs": [
    {
     "name": "stdout",
     "output_type": "stream",
     "text": [
      "File /data/analysis/data_mcandrew/000-sclr-discovair/D498_BIOP_INT/D498_BIOP_INT_isomatrix.h5ad was successfully written to disk.\n",
      "File /data/analysis/data_mcandrew/000-sclr-discovair/D500_BIOP_NAS/D500_BIOP_NAS_isomatrix.h5ad was successfully written to disk.\n",
      "File /data/analysis/data_mcandrew/000-sclr-discovair/D500_BIOP_INT/D500_BIOP_INT_isomatrix.h5ad was successfully written to disk.\n",
      "File /data/analysis/data_mcandrew/000-sclr-discovair/D493_BIOP_NAS/D493_BIOP_NAS_isomatrix.h5ad was successfully written to disk.\n",
      "File /data/analysis/data_mcandrew/000-sclr-discovair/D494_BIOP_NAS/D494_BIOP_NAS_isomatrix.h5ad was successfully written to disk.\n",
      "File /data/analysis/data_mcandrew/000-sclr-discovair/D493_BIOP_INT/D493_BIOP_INT_isomatrix.h5ad was successfully written to disk.\n",
      "File /data/analysis/data_mcandrew/000-sclr-discovair/D499_BIOP_INT/D499_BIOP_INT_isomatrix.h5ad was successfully written to disk.\n",
      "File /data/analysis/data_mcandrew/000-sclr-discovair/D494_BIOP_INT/D494_BIOP_INT_isomatrix.h5ad was successfully written to disk.\n",
      "File /data/analysis/data_mcandrew/000-sclr-discovair/D495_BIOP_INT/D495_BIOP_INT_isomatrix.h5ad was successfully written to disk.\n",
      "File /data/analysis/data_mcandrew/000-sclr-discovair/D492_BIOP_INT/D492_BIOP_INT_isomatrix.h5ad was successfully written to disk.\n",
      "File /data/analysis/data_mcandrew/000-sclr-discovair/D490_BIOP_INT/D490_BIOP_INT_isomatrix.h5ad was successfully written to disk.\n",
      "File /data/analysis/data_mcandrew/000-sclr-discovair/D496_BIOP_INT/D496_BIOP_INT_isomatrix.h5ad was successfully written to disk.\n",
      "File /data/analysis/data_mcandrew/000-sclr-discovair/D534_BIOP_INT/D534_BIOP_INT_isomatrix.h5ad was successfully written to disk.\n",
      "File /data/analysis/data_mcandrew/000-sclr-discovair/D492_BIOP_NAS/D492_BIOP_NAS_isomatrix.h5ad was successfully written to disk.\n"
     ]
    }
   ],
   "source": [
    "converted_isomatrix_paths = multiple_isomatrix_conversion(isomatrix_paths, verbose=True, return_paths = True, sparse=True)\n"
   ]
  },
  {
   "cell_type": "code",
   "execution_count": 7,
   "metadata": {},
   "outputs": [
    {
     "name": "stderr",
     "output_type": "stream",
     "text": [
      "Standardizing anndata features via union: 100%|██████████| 14/14 [10:09<00:00, 43.52s/it]\n"
     ]
    }
   ],
   "source": [
    "andata_concat = concatenate_anndata(converted_isomatrix_paths, sparse =True, verbose = True)"
   ]
  },
  {
   "cell_type": "code",
   "execution_count": null,
   "metadata": {},
   "outputs": [],
   "source": [
    "andata_concat"
   ]
  },
  {
   "cell_type": "code",
   "execution_count": null,
   "metadata": {},
   "outputs": [],
   "source": [
    "andata_concat.var"
   ]
  },
  {
   "cell_type": "code",
   "execution_count": null,
   "metadata": {},
   "outputs": [],
   "source": [
    "concatenate_anndata.write_h5ad('discovair_long_read_transcript_matrix.h5ad')"
   ]
  }
 ],
 "metadata": {
  "kernelspec": {
   "display_name": "python3",
   "language": "python",
   "name": "python3"
  },
  "language_info": {
   "codemirror_mode": {
    "name": "ipython",
    "version": 3
   },
   "file_extension": ".py",
   "mimetype": "text/x-python",
   "name": "python",
   "nbconvert_exporter": "python",
   "pygments_lexer": "ipython3",
   "version": "3.11.4"
  }
 },
 "nbformat": 4,
 "nbformat_minor": 4
}
