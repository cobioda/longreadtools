{
 "cells": [
  {
   "cell_type": "code",
   "execution_count": 1,
   "metadata": {},
   "outputs": [],
   "source": [
    "#| hide\n",
    "\n"
   ]
  },
  {
   "cell_type": "markdown",
   "metadata": {},
   "source": [
    "![LongReadTools](https://raw.githubusercontent.com/cobioda/longreadtools/master/longreadtools/white_bg_log_hd.png)\n"
   ]
  },
  {
   "cell_type": "markdown",
   "metadata": {},
   "source": [
    "## Install"
   ]
  },
  {
   "cell_type": "markdown",
   "metadata": {},
   "source": [
    "```sh\n",
    "pip install git+https://github.com/cobioda/longreadtools.git\n",
    "\n",
    "```"
   ]
  },
  {
   "cell_type": "markdown",
   "metadata": {},
   "source": [
    "## How to use"
   ]
  },
  {
   "cell_type": "markdown",
   "metadata": {},
   "source": [
    "Here we will use the `isomatrix_tools` module to convert our isomatrix\n",
    "txt files in bulk into `anndata` objects using the\n",
    "[`multiple_isomatrix_conversion`](https://cobioda.github.io/longreadtools/isomatrix_tools.html#multiple_isomatrix_conversion)\n",
    "function . Then, we will utilize our specialized\n",
    "[`concatenate_anndata`](https://cobioda.github.io/longreadtools/isomatrix_tools.html#concatenate_anndata)\n",
    "function to generate a concatenated `anndata` for downstream analysis."
   ]
  },
  {
   "cell_type": "markdown",
   "metadata": {},
   "source": [
    "First lets get the list of isomatrix files we want to convert."
   ]
  },
  {
   "cell_type": "code",
   "execution_count": 2,
   "metadata": {},
   "outputs": [
    {
     "name": "stdout",
     "output_type": "stream",
     "text": [
      "['/data/analysis/data_mcandrew/000-sclr-discovair/D498_BIOP_INT', '/data/analysis/data_mcandrew/000-sclr-discovair/D492_BIOP_NAS', '/data/analysis/data_mcandrew/000-sclr-discovair/D494_BIOP_INT', '/data/analysis/data_mcandrew/000-sclr-discovair/D500_BIOP_INT', '/data/analysis/data_mcandrew/000-sclr-discovair/D494_BIOP_NAS', '/data/analysis/data_mcandrew/000-sclr-discovair/D496_BIOP_INT', '/data/analysis/data_mcandrew/000-sclr-discovair/D499_BIOP_INT', '/data/analysis/data_mcandrew/000-sclr-discovair/D493_BIOP_INT', '/data/analysis/data_mcandrew/000-sclr-discovair/D493_BIOP_NAS', '/data/analysis/data_mcandrew/000-sclr-discovair/D534_BIOP_INT', '/data/analysis/data_mcandrew/000-sclr-discovair/D490_BIOP_INT', '/data/analysis/data_mcandrew/000-sclr-discovair/D500_BIOP_NAS', '/data/analysis/data_mcandrew/000-sclr-discovair/D495_BIOP_INT', '/data/analysis/data_mcandrew/000-sclr-discovair/D492_BIOP_INT']\n"
     ]
    }
   ],
   "source": [
    "# Importing required libraries\n",
    "import os\n",
    "import re\n",
    "\n",
    "# Defining the directory path\n",
    "directory = '/data/analysis/data_mcandrew/000-sclr-discovair/'\n",
    "\n",
    "# Defining the regular expression pattern to match the required files\n",
    "pattern = re.compile('.*(_BIOP_INT|BIOP_NAS)$')\n",
    "\n",
    "# Getting a list of all files in the directory\n",
    "all_files = os.listdir(directory)\n",
    "\n",
    "# Filtering the list to include only files that match the pattern\n",
    "matching_files = [os.path.join(directory, f) for f in all_files if pattern.match(f)]\n",
    "\n",
    "# Printing the list of matching files\n",
    "print(matching_files)\n",
    "\n",
    "# Assigning the list of matching files to the variable 'individual_runs'\n",
    "individual_runs = matching_files\n",
    "\n",
    "# Adding '_isomatrix.txt' to each file name in the 'individual_runs' list\n",
    "individual_runs = [f'{run}_isomatrix.txt' for run in individual_runs]\n",
    "\n",
    "# Creating a list of paths for each isomatrix file in the 'matching_files' list\n",
    "isomatrix_paths = [os.path.join(run, f'{os.path.basename(run)}_isomatrix.txt') for run in matching_files]"
   ]
  },
  {
   "cell_type": "markdown",
   "metadata": {},
   "source": [
    "Lets import isomatool and convert them to Anndata objects "
   ]
  },
  {
   "cell_type": "code",
   "execution_count": 3,
   "metadata": {},
   "outputs": [],
   "source": [
    "from longreadtools.isomatool import *\n",
    "import scanpy as sc"
   ]
  },
  {
   "cell_type": "code",
   "execution_count": 4,
   "metadata": {},
   "outputs": [
    {
     "name": "stdout",
     "output_type": "stream",
     "text": [
      "File /data/analysis/data_mcandrew/000-sclr-discovair/D498_BIOP_INT/D498_BIOP_INT_isomatrix.h5ad was successfully written to disk.\n",
      "File /data/analysis/data_mcandrew/000-sclr-discovair/D500_BIOP_NAS/D500_BIOP_NAS_isomatrix.h5ad was successfully written to disk.\n",
      "File /data/analysis/data_mcandrew/000-sclr-discovair/D500_BIOP_INT/D500_BIOP_INT_isomatrix.h5ad was successfully written to disk.\n",
      "File /data/analysis/data_mcandrew/000-sclr-discovair/D493_BIOP_NAS/D493_BIOP_NAS_isomatrix.h5ad was successfully written to disk.\n",
      "File /data/analysis/data_mcandrew/000-sclr-discovair/D494_BIOP_NAS/D494_BIOP_NAS_isomatrix.h5ad was successfully written to disk.\n",
      "File /data/analysis/data_mcandrew/000-sclr-discovair/D493_BIOP_INT/D493_BIOP_INT_isomatrix.h5ad was successfully written to disk.\n"
     ]
    }
   ],
   "source": [
    "converted_isomatrix_paths = multiple_isomatrix_conversion(isomatrix_paths, verbose=True, return_paths = True)"
   ]
  },
  {
   "cell_type": "code",
   "execution_count": null,
   "metadata": {},
   "outputs": [
    {
     "name": "stdout",
     "output_type": "stream",
     "text": [
      "Reading .h5ad files...\n",
      "Applying feature set standardization...\n"
     ]
    },
    {
     "name": "stderr",
     "output_type": "stream",
     "text": [
      "Standardizing anndata features via union: 100%|██████████| 14/14 [01:04<00:00,  4.61s/it]\n"
     ]
    },
    {
     "name": "stdout",
     "output_type": "stream",
     "text": [
      "Concatenating AnnData objects and adding batch keys with scanpy...\n"
     ]
    },
    {
     "name": "stderr",
     "output_type": "stream",
     "text": [
      "/home/mcandrew/.conda/envs/scLRanalyis/lib/python3.11/site-packages/anndata/_core/anndata.py:1897: UserWarning: Observation names are not unique. To make them unique, call `.obs_names_make_unique`.\n",
      "  utils.warn_names_duplicates(\"obs\")\n",
      "/home/mcandrew/.conda/envs/scLRanalyis/lib/python3.11/site-packages/pandas/core/arrays/categorical.py:568: RuntimeWarning: invalid value encountered in cast\n",
      "  np.array(self.categories._na_value).astype(dtype)\n"
     ]
    },
    {
     "name": "stdout",
     "output_type": "stream",
     "text": [
      "Setting .var attribute...\n",
      "Final Check...\n"
     ]
    },
    {
     "name": "stderr",
     "output_type": "stream",
     "text": [
      "/home/mcandrew/.conda/envs/scLRanalyis/lib/python3.11/site-packages/longreadtools/isomatool.py:341: FutureWarning: is_categorical_dtype is deprecated and will be removed in a future version. Use isinstance(dtype, CategoricalDtype) instead\n",
      "  if pd.api.types.is_categorical_dtype(df[col]):\n",
      "/home/mcandrew/.conda/envs/scLRanalyis/lib/python3.11/site-packages/longreadtools/isomatool.py:341: FutureWarning: is_categorical_dtype is deprecated and will be removed in a future version. Use isinstance(dtype, CategoricalDtype) instead\n",
      "  if pd.api.types.is_categorical_dtype(df[col]):\n",
      "/home/mcandrew/.conda/envs/scLRanalyis/lib/python3.11/site-packages/longreadtools/isomatool.py:341: FutureWarning: is_categorical_dtype is deprecated and will be removed in a future version. Use isinstance(dtype, CategoricalDtype) instead\n",
      "  if pd.api.types.is_categorical_dtype(df[col]):\n",
      "/home/mcandrew/.conda/envs/scLRanalyis/lib/python3.11/site-packages/longreadtools/isomatool.py:341: FutureWarning: is_categorical_dtype is deprecated and will be removed in a future version. Use isinstance(dtype, CategoricalDtype) instead\n",
      "  if pd.api.types.is_categorical_dtype(df[col]):\n"
     ]
    },
    {
     "ename": "NameError",
     "evalue": "name 'issparse' is not defined",
     "output_type": "error",
     "traceback": [
      "\u001b[0;31m---------------------------------------------------------------------------\u001b[0m",
      "\u001b[0;31mNameError\u001b[0m                                 Traceback (most recent call last)",
      "Cell \u001b[0;32mIn[5], line 1\u001b[0m\n\u001b[0;32m----> 1\u001b[0m andata_concat \u001b[38;5;241m=\u001b[39m concatenate_anndata(converted_isomatrix_paths, verbose \u001b[38;5;241m=\u001b[39m \u001b[38;5;28;01mTrue\u001b[39;00m)\n",
      "File \u001b[0;32m~/.conda/envs/scLRanalyis/lib/python3.11/site-packages/longreadtools/isomatool.py:451\u001b[0m, in \u001b[0;36mconcatenate_anndata\u001b[0;34m(h5ad_inputs, standardization_method, sparse, verbose)\u001b[0m\n\u001b[1;32m    448\u001b[0m concat_anndata\u001b[38;5;241m.\u001b[39mX \u001b[38;5;241m=\u001b[39m concat_anndata\u001b[38;5;241m.\u001b[39mX\u001b[38;5;241m.\u001b[39mastype(np\u001b[38;5;241m.\u001b[39mfloat32)\n\u001b[1;32m    450\u001b[0m \u001b[38;5;28;01mif\u001b[39;00m verbose: \u001b[38;5;28mprint\u001b[39m(\u001b[38;5;124m\"\u001b[39m\u001b[38;5;124mFinal Check...\u001b[39m\u001b[38;5;124m\"\u001b[39m)\n\u001b[0;32m--> 451\u001b[0m check_anndata_for_saving(concat_anndata)\n\u001b[1;32m    454\u001b[0m \u001b[38;5;28;01mif\u001b[39;00m verbose: \u001b[38;5;28mprint\u001b[39m(\u001b[38;5;124m\"\u001b[39m\u001b[38;5;124mConcatenation complete.\u001b[39m\u001b[38;5;124m\"\u001b[39m)\n\u001b[1;32m    455\u001b[0m \u001b[38;5;28;01mreturn\u001b[39;00m concat_anndata\n",
      "File \u001b[0;32m~/.conda/envs/scLRanalyis/lib/python3.11/site-packages/longreadtools/isomatool.py:367\u001b[0m, in \u001b[0;36mcheck_anndata_for_saving\u001b[0;34m(adata, verbose)\u001b[0m\n\u001b[1;32m    364\u001b[0m     \u001b[38;5;28mprint\u001b[39m(\u001b[38;5;124m\"\u001b[39m\u001b[38;5;124mDuplicate var_names found, consider making them unique.\u001b[39m\u001b[38;5;124m\"\u001b[39m)\n\u001b[1;32m    366\u001b[0m \u001b[38;5;66;03m# Check if .X contains NaN values and handle if necessary, accounting for sparse matrices\u001b[39;00m\n\u001b[0;32m--> 367\u001b[0m \u001b[38;5;28;01mif\u001b[39;00m issparse(adata\u001b[38;5;241m.\u001b[39mX):\n\u001b[1;32m    368\u001b[0m     \u001b[38;5;28;01mif\u001b[39;00m np\u001b[38;5;241m.\u001b[39misnan(adata\u001b[38;5;241m.\u001b[39mX\u001b[38;5;241m.\u001b[39mdata)\u001b[38;5;241m.\u001b[39many() \u001b[38;5;129;01mand\u001b[39;00m verbose:\n\u001b[1;32m    369\u001b[0m         \u001b[38;5;28mprint\u001b[39m(\u001b[38;5;124m\"\u001b[39m\u001b[38;5;124mNaN values found in sparse .X data. Consider handling them.\u001b[39m\u001b[38;5;124m\"\u001b[39m)\n",
      "\u001b[0;31mNameError\u001b[0m: name 'issparse' is not defined"
     ]
    }
   ],
   "source": [
    "andata_concat = concatenate_anndata(converted_isomatrix_paths, verbose = True)"
   ]
  },
  {
   "cell_type": "code",
   "execution_count": null,
   "metadata": {},
   "outputs": [],
   "source": [
    "andata_concat.X"
   ]
  },
  {
   "cell_type": "code",
   "execution_count": null,
   "metadata": {},
   "outputs": [],
   "source": [
    "andata_concat.var"
   ]
  },
  {
   "cell_type": "code",
   "execution_count": null,
   "metadata": {},
   "outputs": [],
   "source": [
    "andata_concat.obs"
   ]
  },
  {
   "cell_type": "code",
   "execution_count": null,
   "metadata": {},
   "outputs": [],
   "source": [
    "andata_concat.write_h5ad('discovair_long_read_transcript_matrix.h5ad')"
   ]
  },
  {
   "cell_type": "code",
   "execution_count": null,
   "metadata": {},
   "outputs": [],
   "source": [
    "isoform_anndata_from_long_reads = sc.read_h5ad(\"discovair_long_read_transcript_matrix.h5ad\")\n",
    "gene_anndata_from_short_reads = sc.read_h5ad(\"/data/analysis/data_mcandrew/000-sclr-discovair/integrated_V10.h5ad\")"
   ]
  },
  {
   "cell_type": "code",
   "execution_count": null,
   "metadata": {},
   "outputs": [],
   "source": [
    "isoform_anndata_from_long_reads"
   ]
  },
  {
   "cell_type": "code",
   "execution_count": null,
   "metadata": {},
   "outputs": [],
   "source": [
    "gene_anndata_from_short_reads"
   ]
  },
  {
   "cell_type": "code",
   "execution_count": null,
   "metadata": {},
   "outputs": [],
   "source": [
    "gene_anndata_from_short_reads.obs"
   ]
  },
  {
   "cell_type": "code",
   "execution_count": null,
   "metadata": {},
   "outputs": [],
   "source": [
    "from longreadtools.Standardization import *\n",
    "isoform_matrix = subset_common_cells(isoform_anndata_from_long_reads, gene_anndata_from_short_reads)"
   ]
  },
  {
   "cell_type": "code",
   "execution_count": null,
   "metadata": {},
   "outputs": [],
   "source": [
    "gene_matrtrix  = subset_common_cells(gene_anndata_from_short_reads, isoform_matrix)"
   ]
  },
  {
   "cell_type": "code",
   "execution_count": null,
   "metadata": {},
   "outputs": [],
   "source": [
    "annotated_isoform_matrix = transfer_obs(gene_matrtrix, isoform_matrix)"
   ]
  }
 ],
 "metadata": {
  "kernelspec": {
   "display_name": "python3",
   "language": "python",
   "name": "python3"
  },
  "language_info": {
   "codemirror_mode": {
    "name": "ipython",
    "version": 3
   },
   "file_extension": ".py",
   "mimetype": "text/x-python",
   "name": "python",
   "nbconvert_exporter": "python",
   "pygments_lexer": "ipython3",
   "version": "3.11.4"
  }
 },
 "nbformat": 4,
 "nbformat_minor": 4
}
