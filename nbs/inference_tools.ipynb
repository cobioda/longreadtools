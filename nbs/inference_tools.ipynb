{
 "cells": [
  {
   "cell_type": "markdown",
   "metadata": {},
   "source": [
    "# Inference Tools\n",
    "\n",
    "> This module provides a comprehensive collection of tools tailored for the analysis and inference of isomatrix anndata objects. These tools facilitate the extraction of meaningful insights from complex datasets, enabling advanced data interpretation in the context of single cell resoloution isoform studies. \n"
   ]
  },
  {
   "cell_type": "code",
   "execution_count": 1,
   "metadata": {},
   "outputs": [],
   "source": [
    "#| default_exp inference"
   ]
  },
  {
   "cell_type": "code",
   "execution_count": 2,
   "metadata": {},
   "outputs": [],
   "source": [
    "#| hide\n",
    "from nbdev.showdoc import *"
   ]
  },
  {
   "cell_type": "code",
   "execution_count": 3,
   "metadata": {},
   "outputs": [],
   "source": [
    "#| hide\n",
    "#| export\n",
    "import pandas as pd\n",
    "from scipy.sparse import csr_matrix\n",
    "import numpy as np\n",
    "import scanpy as sc"
   ]
  },
  {
   "cell_type": "code",
   "execution_count": 4,
   "metadata": {},
   "outputs": [],
   "source": [
    "isoform_anndata_from_long_reads = sc.read_h5ad(\"/data/analysis/data_mcandrew/000-sclr-discovair/discovair_long_read_transcript_matrix_annotated.h5ad\")"
   ]
  },
  {
   "cell_type": "code",
   "execution_count": 5,
   "metadata": {},
   "outputs": [
    {
     "data": {
      "text/plain": [
       "array([[1., 0., 0., ..., 0., 0., 0.],\n",
       "       [1., 1., 2., ..., 0., 0., 0.],\n",
       "       [0., 0., 0., ..., 0., 0., 0.],\n",
       "       ...,\n",
       "       [3., 0., 0., ..., 0., 0., 0.],\n",
       "       [1., 0., 0., ..., 0., 0., 0.],\n",
       "       [0., 0., 0., ..., 0., 0., 0.]], dtype=float32)"
      ]
     },
     "execution_count": 5,
     "metadata": {},
     "output_type": "execute_result"
    }
   ],
   "source": [
    "isoform_anndata_from_long_reads.X"
   ]
  },
  {
   "cell_type": "code",
   "execution_count": 6,
   "metadata": {},
   "outputs": [],
   "source": [
    "#| export\n",
    "import numpy as np\n",
    "\n",
    "#| export\n",
    "def get_gene_mat(adata, gene_column_name='geneId'):\n",
    "    # Check if the gene_column_name exists in the DataFrame\n",
    "    if gene_column_name not in adata.var.columns:\n",
    "        raise ValueError(f\"{gene_column_name} does not exist in the adata.var DataFrame.\")\n",
    "\n",
    "    # Create a mapping from gene IDs to column indices\n",
    "    gene_to_col_map = {gene_id: np.where(adata.var[gene_column_name] == gene_id)[0] for gene_id in np.unique(adata.var[gene_column_name])}\n",
    "\n",
    "    # Sum the isoform counts per gene using vectorized operations\n",
    "    gene_data = np.zeros((adata.shape[0], len(gene_to_col_map)))\n",
    "    for gene_id, col_indices in gene_to_col_map.items():\n",
    "        # Ensure that col_indices is always a list for proper indexing\n",
    "        col_indices = np.atleast_1d(col_indices)\n",
    "        gene_data[:, list(gene_to_col_map.keys()).index(gene_id)] = np.sum(adata.X[:, col_indices], axis=1)\n",
    "\n",
    "    # Create a new AnnData object with the gene data\n",
    "    gene_adata = sc.AnnData(X=gene_data, var=pd.DataFrame(index=gene_to_col_map.keys()))\n",
    "    \n",
    "    # Transfer relevant metadata from isoform to gene anndata\n",
    "    gene_adata.obs = adata.obs.copy()\n",
    "  \n",
    "\n",
    "    return gene_adata\n"
   ]
  },
  {
   "cell_type": "code",
   "execution_count": 7,
   "metadata": {},
   "outputs": [],
   "source": [
    "gene_matrix = get_gene_mat(isoform_anndata_from_long_reads)"
   ]
  },
  {
   "cell_type": "code",
   "execution_count": 8,
   "metadata": {},
   "outputs": [],
   "source": [
    "#| export\n",
    "import numpy as np\n",
    "\n",
    "def get_iso_prop(adata, gene_column_name):\n",
    "    # Ensure column exists\n",
    "    if gene_column_name not in adata.var.columns:\n",
    "        raise KeyError(f\"Column '{gene_column_name}' does not exist in the 'adata.var' DataFrame.\")\n",
    "\n",
    "    # Get gene IDs and data\n",
    "    gene_ids = adata.var[gene_column_name].values\n",
    "    data = adata.X\n",
    "\n",
    "    # Vectorized normalization\n",
    "    group_sums = np.sum(data, axis=1)\n",
    "    normalized_data = data / group_sums.reshape(-1, 1)\n",
    "\n",
    "    # Fill NaNs with zeros\n",
    "    normalized_data = np.nan_to_num(normalized_data, nan=0)\n",
    "\n",
    "    return normalized_data\n"
   ]
  },
  {
   "cell_type": "code",
   "execution_count": 9,
   "metadata": {},
   "outputs": [],
   "source": [
    "isoform_anndata_from_long_reads.obsm[\"isoform_proportions\"] = get_iso_prop(isoform_anndata_from_long_reads, gene_column_name='geneId')\n"
   ]
  },
  {
   "cell_type": "code",
   "execution_count": 10,
   "metadata": {},
   "outputs": [],
   "source": [
    "#| hide\n",
    "import nbdev; nbdev.nbdev_export()"
   ]
  }
 ],
 "metadata": {
  "kernelspec": {
   "display_name": "scLRanalyis",
   "language": "python",
   "name": "python3"
  },
  "language_info": {
   "codemirror_mode": {
    "name": "ipython",
    "version": 3
   },
   "file_extension": ".py",
   "mimetype": "text/x-python",
   "name": "python",
   "nbconvert_exporter": "python",
   "pygments_lexer": "ipython3",
   "version": "3.11.4"
  }
 },
 "nbformat": 4,
 "nbformat_minor": 2
}
