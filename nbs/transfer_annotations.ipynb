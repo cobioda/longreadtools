{
 "cells": [
  {
   "cell_type": "markdown",
   "metadata": {},
   "source": [
    "Harmonization Module\n",
    "\n",
    "> This module encompasses a suite of tools designed for the harmonization of gene expression data derived from different sequencing technologies. Specifically, it provides functionality to standardize short-read gene expression matrices with long-read transcript matrices. The harmonization process ensures that datasets from disparate sources can be directly compared and analyzed together, facilitating integrative studies and enhancing the robustness of biological insights. The tools within this notebook are part of a larger ecosystem aimed at streamlining the analysis of transcriptomic data.\n"
   ]
  },
  {
   "cell_type": "code",
   "execution_count": 1,
   "metadata": {},
   "outputs": [],
   "source": [
    "#| default_exp Standardization"
   ]
  },
  {
   "cell_type": "code",
   "execution_count": 2,
   "metadata": {},
   "outputs": [],
   "source": [
    "#| hide\n",
    "from nbdev.showdoc import *"
   ]
  },
  {
   "cell_type": "markdown",
   "metadata": {},
   "source": [
    "Harmonize two datasets by extracting a subset from one dataset containing only the cells that are also present in the other dataset, and by ensuring that the metadata and gene expression measurements are compatible for comparative analysis. This process facilitates the integration of datasets from different sequencing technologies or experimental conditions, allowing for robust downstream analyses such as differential expression, clustering, and trajectory inference.\n"
   ]
  },
  {
   "cell_type": "code",
   "execution_count": 3,
   "metadata": {},
   "outputs": [],
   "source": [
    "#| export\n",
    "import scanpy as sc\n",
    "\n",
    "\n",
    "def subset_common_cells( dataset1:sc.AnnData,  # First dataset to be subsetted.\n",
    "                        dataset2:sc.AnnData   # Second dataset to compare with.\n",
    "                        ) -> sc.AnnData:  # Subset of `dataset1` containing only cells also found in `dataset2`.\n",
    "    \n",
    "    \"Subset `dataset1` to only include cells that are also present in `dataset2`.\"\n",
    "    # Find common cells by intersecting the cell identifiers of both datasets\n",
    "    common_cells = dataset1.obs_names.intersection(dataset2.obs_names)\n",
    "    \n",
    "    # Explicitly subset dataset1 to only include these common cells\n",
    "    subset_dataset1 = dataset1[common_cells, :].copy()\n",
    "    \n",
    "    return subset_dataset1\n"
   ]
  },
  {
   "cell_type": "markdown",
   "metadata": {},
   "source": [
    "Transfer the .obs attribute from one AnnData object to another, ensuring compatibility in .obs dimensionality and preserving the .var DataFrame. This function is designed to maintain the integrity of the target dataset's gene expression information while enriching it with the metadata from the source dataset. It is a crucial step in the harmonization process, allowing for integrated analysis of datasets from different sources.\n"
   ]
  },
  {
   "cell_type": "code",
   "execution_count": 4,
   "metadata": {},
   "outputs": [],
   "source": [
    "#| export \n",
    "\n",
    "import pandas as pd\n",
    "import anndata as ad\n",
    "\n",
    "#| export\n",
    "def transfer_obs(dataset1: ad.AnnData,  # Source AnnData object with .obs metadata to transfer.\n",
    "                 dataset2: ad.AnnData   # Target AnnData object to receive .obs metadata.\n",
    "                 ) -> ad.AnnData:       # The modified `dataset2` with .obs from `dataset1` transferred.\n",
    "    \"Transfer `.obs` metadata from `dataset1` to `dataset2` one by one, while preserving the `.var` DataFrame of `dataset2`.\"\n",
    "    \n",
    "    # Ensure dataset2's .var is preserved without altering its contents\n",
    "    var_dataset2 = dataset2.var.copy()\n",
    "    \n",
    "    # Clear current .obs in dataset2 to ensure it only contains metadata from dataset1\n",
    "    dataset2.obs = pd.DataFrame(index=dataset2.obs.index)\n",
    "    \n",
    "    # Loop through each column in dataset1.obs and transfer it to dataset2.obs\n",
    "    for column_name in dataset1.obs.columns:\n",
    "        # Transfer each column individually\n",
    "        dataset2.obs[column_name] = dataset1.obs[column_name].copy()\n",
    "\n",
    "    # Reapply the saved .var to dataset2 to ensure it's preserved\n",
    "    dataset2.var = var_dataset2\n",
    "\n",
    "    return dataset2"
   ]
  },
  {
   "cell_type": "code",
   "execution_count": 8,
   "metadata": {},
   "outputs": [],
   "source": [
    "#| hide\n",
    "import nbdev; nbdev.nbdev_export()"
   ]
  }
 ],
 "metadata": {
  "kernelspec": {
   "display_name": "scLRanalyis",
   "language": "python",
   "name": "python3"
  },
  "language_info": {
   "codemirror_mode": {
    "name": "ipython",
    "version": 3
   },
   "file_extension": ".py",
   "mimetype": "text/x-python",
   "name": "python",
   "nbconvert_exporter": "python",
   "pygments_lexer": "ipython3",
   "version": "3.11.4"
  }
 },
 "nbformat": 4,
 "nbformat_minor": 2
}
