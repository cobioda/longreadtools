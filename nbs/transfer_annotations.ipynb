{
 "cells": [
  {
   "cell_type": "markdown",
   "metadata": {},
   "source": [
    "# Standardization Tools\n",
    "\n",
    "> Tools for standardization of short read derived gene exspression matrices with long read transcript matrices\n"
   ]
  },
  {
   "cell_type": "code",
   "execution_count": null,
   "metadata": {},
   "outputs": [],
   "source": []
  },
  {
   "cell_type": "code",
   "execution_count": 1,
   "metadata": {},
   "outputs": [],
   "source": [
    "#| default_exp Standardization"
   ]
  },
  {
   "cell_type": "code",
   "execution_count": 2,
   "metadata": {},
   "outputs": [],
   "source": [
    "#| hide\n",
    "from nbdev.showdoc import *"
   ]
  },
  {
   "cell_type": "code",
   "execution_count": 3,
   "metadata": {},
   "outputs": [],
   "source": [
    "#| export\n",
    "import scanpy as sc\n",
    "\n",
    "\n",
    "def subset_common_cells(dataset1, dataset2):\n",
    "    \"\"\"\n",
    "    Correctly subsets `dataset1` to only include cells that are also present in `dataset2`,\n",
    "    ensuring the result has at most as many cells as in the intersection.\n",
    "    \n",
    "    Parameters:\n",
    "    - dataset1: AnnData object\n",
    "    - dataset2: AnnData object\n",
    "    \n",
    "    Returns:\n",
    "    - AnnData object: Subset of `dataset1` containing only cells also found in `dataset2`.\n",
    "    \"\"\"\n",
    "    # Find common cells by intersecting the cell identifiers of both datasets\n",
    "    common_cells = dataset1.obs_names.intersection(dataset2.obs_names)\n",
    "    \n",
    "    # Explicitly subset dataset1 to only include these common cells\n",
    "    subset_dataset1 = dataset1[common_cells, :].copy()\n",
    "    \n",
    "    return subset_dataset1\n"
   ]
  },
  {
   "cell_type": "code",
   "execution_count": 4,
   "metadata": {},
   "outputs": [],
   "source": [
    "#| export \n",
    "\n",
    "import pandas as pd\n",
    "import anndata as ad\n",
    "\n",
    "def transfer_obs(dataset1, dataset2):\n",
    "    \"\"\"\n",
    "    Transfers .obs metadata from dataset1 to dataset2 one by one. The .var DataFrame of dataset2 is preserved.\n",
    "    \n",
    "    Parameters:\n",
    "    - dataset1: Source AnnData object with .obs metadata to transfer.\n",
    "    - dataset2: Target AnnData object to receive .obs metadata from dataset1, column by column.\n",
    "    \n",
    "    Returns:\n",
    "    - AnnData: The modified dataset2 with .obs from dataset1 transferred one by one and original .var preserved.\n",
    "    \"\"\"\n",
    "    # Ensure dataset2's .var is preserved without altering its contents\n",
    "    var_dataset2 = dataset2.var.copy()\n",
    "    \n",
    "    # Clear current .obs in dataset2 to ensure it only contains metadata from dataset1\n",
    "    dataset2.obs = pd.DataFrame(index=dataset2.obs.index)\n",
    "    \n",
    "    # Loop through each column in dataset1.obs and transfer it to dataset2.obs\n",
    "    for column_name in dataset1.obs.columns:\n",
    "        # Transfer each column individually\n",
    "        dataset2.obs[column_name] = dataset1.obs[column_name].copy()\n",
    "\n",
    "    # Reapply the saved .var to dataset2 to ensure it's preserved\n",
    "    dataset2.var = var_dataset2\n",
    "\n",
    "    return dataset2"
   ]
  },
  {
   "cell_type": "code",
   "execution_count": 5,
   "metadata": {},
   "outputs": [],
   "source": [
    "# short_read_gene_matrix  = sc.read_h5ad(\"/data/analysis/data_mcandrew/000-sclr-discovair/notebooks/combined_anndata_lr_sr_gene_matrix.h5ad\")\n"
   ]
  },
  {
   "cell_type": "code",
   "execution_count": 6,
   "metadata": {},
   "outputs": [],
   "source": [
    "# long_read_transcript_matrix = sc.read_h5ad(\"/data/analysis/data_mcandrew/longreadtools/nbs/isoform_matrix_discovair_union_of_transcripts.h5ad\")"
   ]
  },
  {
   "cell_type": "code",
   "execution_count": 7,
   "metadata": {},
   "outputs": [],
   "source": [
    "# long_read_with_matched_short_read = subset_common_cells(long_read_transcript_matrix, short_read_gene_matrix)"
   ]
  },
  {
   "cell_type": "code",
   "execution_count": 8,
   "metadata": {},
   "outputs": [],
   "source": [
    "#| hide\n",
    "import nbdev; nbdev.nbdev_export()"
   ]
  }
 ],
 "metadata": {
  "kernelspec": {
   "display_name": "scLRanalyis",
   "language": "python",
   "name": "python3"
  },
  "language_info": {
   "codemirror_mode": {
    "name": "ipython",
    "version": 3
   },
   "file_extension": ".py",
   "mimetype": "text/x-python",
   "name": "python",
   "nbconvert_exporter": "python",
   "pygments_lexer": "ipython3",
   "version": "3.11.4"
  }
 },
 "nbformat": 4,
 "nbformat_minor": 2
}
